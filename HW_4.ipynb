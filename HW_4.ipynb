{
 "cells": [
  {
   "cell_type": "markdown",
   "id": "a3040ca1",
   "metadata": {},
   "source": [
    "### 4. Сверточные нейронные сети\n",
    "\n",
    "#### Задание:\n",
    "Используя файл Web4.ipynb (он в полезных ссылках):\n",
    "\n",
    "Попробуйте улучшить точность распознавания образов cifar 10 сверточной нейронной сетью, рассмотренной на уроке. Приложите анализ с описанием того, что улучшает работу нейронной сети, а что ухудшает\n",
    "Опишите в анализе, какие изменения необходимо было бы внести в получившуюся нейронную сеть, если бы ей нужно было работать не с cifar10, а с MNIST, CIFAR100 и IMAGENET"
   ]
  },
  {
   "cell_type": "code",
   "execution_count": 3,
   "id": "0eaca89f",
   "metadata": {},
   "outputs": [],
   "source": [
    "import numpy as np\n",
    "import pandas as pd\n",
    "import tensorflow as tf\n",
    "import matplotlib.pyplot as plt\n",
    "%matplotlib inline\n",
    "from tensorflow.keras.models import Sequential, Model\n",
    "from tensorflow.keras.layers import Conv2D, Input\n",
    "from tensorflow.keras.layers import GlobalMaxPooling2D, MaxPooling2D, AveragePooling2D, GlobalAveragePooling2D\n",
    "from tensorflow.keras.datasets import cifar10\n",
    "from tensorflow.keras.preprocessing.image import ImageDataGenerator\n",
    "from tensorflow.keras.utils import to_categorical\n",
    "from tensorflow.keras.layers import Dense, Dropout, Activation, Flatten\n",
    "\n",
    "import os"
   ]
  },
  {
   "cell_type": "code",
   "execution_count": 2,
   "id": "ab2d03e5",
   "metadata": {},
   "outputs": [],
   "source": [
    "tf.random.set_seed(1)"
   ]
  },
  {
   "cell_type": "code",
   "execution_count": 4,
   "id": "ac69c655",
   "metadata": {},
   "outputs": [
    {
     "data": {
      "text/plain": [
       "[]"
      ]
     },
     "execution_count": 4,
     "metadata": {},
     "output_type": "execute_result"
    }
   ],
   "source": [
    "tf.config.list_physical_devices('GPU')"
   ]
  },
  {
   "cell_type": "code",
   "execution_count": 5,
   "id": "cbc2e622",
   "metadata": {},
   "outputs": [],
   "source": [
    "results = pd.DataFrame() # сводная таблица результатов\n",
    "step = [] # шаг\n",
    "desc = [] # описание\n",
    "train_acc = [] # результат на трейне\n",
    "test_acc = [] # результат на тесте"
   ]
  },
  {
   "cell_type": "markdown",
   "id": "1e3e026f",
   "metadata": {},
   "source": [
    "#### Подготовка датасета и разбиение на тестовую и валидационнуй выборку"
   ]
  },
  {
   "cell_type": "code",
   "execution_count": 6,
   "id": "21ed6554",
   "metadata": {},
   "outputs": [
    {
     "name": "stdout",
     "output_type": "stream",
     "text": [
      "Downloading data from https://www.cs.toronto.edu/~kriz/cifar-10-python.tar.gz\n",
      "170498071/170498071 [==============================] - 1021s 6us/step\n",
      "X_train shape: (50000, 32, 32, 3)\n",
      "50000 тренировочные примеры\n",
      "10000 тестовые примеры\n"
     ]
    }
   ],
   "source": [
    "# установка параметров нейросети\n",
    "batch_size = 64\n",
    "num_classes = 10\n",
    "epochs = 10\n",
    "\n",
    "# разделение тренировочной и тестовой выборки\n",
    "(X_train, y_train), (X_test, y_test) = cifar10.load_data()\n",
    "print('X_train shape:', X_train.shape)\n",
    "print(X_train.shape[0], 'тренировочные примеры')\n",
    "print(X_test.shape[0], 'тестовые примеры')\n",
    "\n",
    "# преобразование матрицы чисел 0-9 в бинарную матрицу чисел 0-1\n",
    "y_train = to_categorical(y_train, num_classes)\n",
    "y_test = to_categorical(y_test, num_classes)\n",
    "\n",
    "\n",
    "X_train = X_train / 255.0\n",
    "X_test = X_test / 255.0"
   ]
  },
  {
   "cell_type": "code",
   "execution_count": 7,
   "id": "7f5fd1f4",
   "metadata": {},
   "outputs": [],
   "source": [
    "classes = ['самолет', 'автомобиль', 'птица', 'кот', 'олень', 'собака', 'лягушка', 'лошадь', 'корабль', 'грузовик']"
   ]
  },
  {
   "cell_type": "code",
   "execution_count": 8,
   "id": "338febde",
   "metadata": {},
   "outputs": [
    {
     "data": {
      "image/png": "[encoded data removed]",
      "text/plain": [
       "<Figure size 432x288 with 1 Axes>"
      ]
     },
     "metadata": {
      "needs_background": "light"
     },
     "output_type": "display_data"
    }
   ],
   "source": [
    "N = 10 #пример картинки объекта исследования\n",
    "\n",
    "plt.imshow(X_test[N])\n",
    "plt.title(classes[np.argmax(y_test[N,:])])\n",
    "plt.show()"
   ]
  },
  {
   "cell_type": "markdown",
   "id": "4486c0c0",
   "metadata": {},
   "source": [
    "#### Повышение точности распознавания образов cifar 10 сверточной нейронной сетью"
   ]
  },
  {
   "cell_type": "code",
   "execution_count": 9,
   "id": "55630219",
   "metadata": {},
   "outputs": [
    {
     "name": "stdout",
     "output_type": "stream",
     "text": [
      "Model: \"sequential\"\n",
      "_________________________________________________________________\n",
      " Layer (type)                Output Shape              Param #   \n",
      "=================================================================\n",
      " conv2d (Conv2D)             (None, 32, 32, 32)        896       \n",
      "                                                                 \n",
      " activation (Activation)     (None, 32, 32, 32)        0         \n",
      "                                                                 \n",
      " conv2d_1 (Conv2D)           (None, 30, 30, 32)        9248      \n",
      "                                                                 \n",
      " activation_1 (Activation)   (None, 30, 30, 32)        0         \n",
      "                                                                 \n",
      " max_pooling2d (MaxPooling2D  (None, 15, 15, 32)       0         \n",
      " )                                                               \n",
      "                                                                 \n",
      " dropout (Dropout)           (None, 15, 15, 32)        0         \n",
      "                                                                 \n",
      " conv2d_2 (Conv2D)           (None, 15, 15, 64)        18496     \n",
      "                                                                 \n",
      " activation_2 (Activation)   (None, 15, 15, 64)        0         \n",
      "                                                                 \n",
      " conv2d_3 (Conv2D)           (None, 13, 13, 64)        36928     \n",
      "                                                                 \n",
      " activation_3 (Activation)   (None, 13, 13, 64)        0         \n",
      "                                                                 \n",
      " max_pooling2d_1 (MaxPooling  (None, 6, 6, 64)         0         \n",
      " 2D)                                                             \n",
      "                                                                 \n",
      " dropout_1 (Dropout)         (None, 6, 6, 64)          0         \n",
      "                                                                 \n",
      " global_average_pooling2d (G  (None, 64)               0         \n",
      " lobalAveragePooling2D)                                          \n",
      "                                                                 \n",
      " dense (Dense)               (None, 64)                4160      \n",
      "                                                                 \n",
      " activation_4 (Activation)   (None, 64)                0         \n",
      "                                                                 \n",
      " dense_1 (Dense)             (None, 32)                2080      \n",
      "                                                                 \n",
      " activation_5 (Activation)   (None, 32)                0         \n",
      "                                                                 \n",
      " dropout_2 (Dropout)         (None, 32)                0         \n",
      "                                                                 \n",
      " dense_2 (Dense)             (None, 10)                330       \n",
      "                                                                 \n",
      " activation_6 (Activation)   (None, 10)                0         \n",
      "                                                                 \n",
      "=================================================================\n",
      "Total params: 72,138\n",
      "Trainable params: 72,138\n",
      "Non-trainable params: 0\n",
      "_________________________________________________________________\n"
     ]
    }
   ],
   "source": [
    "# конфигурирование слоев нейросети\n",
    "model_1 = Sequential()\n",
    "\n",
    "# слои нейросети отвественные за свертку и max-pooling\n",
    "model_1.add(Conv2D(32, (3, 3), padding='same', input_shape=X_train.shape[1:]))\n",
    "model_1.add(Activation('relu'))\n",
    "model_1.add(Conv2D(32, (3, 3)))\n",
    "model_1.add(Activation('relu'))\n",
    "model_1.add(MaxPooling2D(pool_size=(2, 2)))\n",
    "model_1.add(Dropout(0.25))\n",
    "\n",
    "model_1.add(Conv2D(64, (3, 3), padding='same'))\n",
    "model_1.add(Activation('relu'))\n",
    "model_1.add(Conv2D(64, (3, 3)))\n",
    "model_1.add(Activation('relu'))\n",
    "model_1.add(MaxPooling2D(pool_size=(2, 2)))\n",
    "model_1.add(Dropout(0.25))\n",
    "\n",
    "# полносвязные слои нейронной сети\n",
    "model_1.add(GlobalAveragePooling2D())\n",
    "model_1.add(Dense(64))\n",
    "model_1.add(Activation('relu'))\n",
    "model_1.add(Dense(32))\n",
    "model_1.add(Activation('relu'))\n",
    "model_1.add(Dropout(0.5))\n",
    "model_1.add(Dense(num_classes))\n",
    "model_1.add(Activation('softmax'))\n",
    "\n",
    "model_1.summary()\n",
    "# компиляция модели\n",
    "model_1.compile(loss='categorical_crossentropy',\n",
    "                optimizer='Adam',\n",
    "                metrics=['accuracy'])"
   ]
  },
  {
   "cell_type": "code",
   "execution_count": 10,
   "id": "1f8c43cc",
   "metadata": {},
   "outputs": [
    {
     "name": "stdout",
     "output_type": "stream",
     "text": [
      "Epoch 1/10\n",
      "782/782 [==============================] - 163s 203ms/step - loss: 1.9450 - accuracy: 0.2439 - val_loss: 1.6844 - val_accuracy: 0.3406\n",
      "Epoch 2/10\n",
      "782/782 [==============================] - 158s 202ms/step - loss: 1.6719 - accuracy: 0.3548 - val_loss: 1.4889 - val_accuracy: 0.4348\n",
      "Epoch 3/10\n",
      "782/782 [==============================] - 158s 202ms/step - loss: 1.5524 - accuracy: 0.4214 - val_loss: 1.3694 - val_accuracy: 0.4887\n",
      "Epoch 4/10\n",
      "782/782 [==============================] - 162s 207ms/step - loss: 1.4539 - accuracy: 0.4716 - val_loss: 1.2693 - val_accuracy: 0.5230\n",
      "Epoch 5/10\n",
      "782/782 [==============================] - 162s 207ms/step - loss: 1.3834 - accuracy: 0.5030 - val_loss: 1.2321 - val_accuracy: 0.5490\n",
      "Epoch 6/10\n",
      "782/782 [==============================] - 163s 208ms/step - loss: 1.3289 - accuracy: 0.5252 - val_loss: 1.1636 - val_accuracy: 0.5761\n",
      "Epoch 7/10\n",
      "782/782 [==============================] - 165s 211ms/step - loss: 1.2829 - accuracy: 0.5475 - val_loss: 1.0918 - val_accuracy: 0.6075\n",
      "Epoch 8/10\n",
      "782/782 [==============================] - 161s 207ms/step - loss: 1.2356 - accuracy: 0.5696 - val_loss: 1.0840 - val_accuracy: 0.6150\n",
      "Epoch 9/10\n",
      "782/782 [==============================] - 159s 203ms/step - loss: 1.1972 - accuracy: 0.5818 - val_loss: 1.0405 - val_accuracy: 0.6227\n",
      "Epoch 10/10\n",
      "782/782 [==============================] - 162s 207ms/step - loss: 1.1662 - accuracy: 0.5936 - val_loss: 1.0001 - val_accuracy: 0.6416\n"
     ]
    }
   ],
   "source": [
    "#Обучение модели\n",
    "history_1 = model_1.fit(X_train, y_train,\n",
    "                        batch_size=batch_size,\n",
    "                        epochs=epochs,\n",
    "                        validation_data=(X_test, y_test))"
   ]
  },
  {
   "cell_type": "markdown",
   "id": "f8712959",
   "metadata": {},
   "source": [
    "#### Посмотим метрики на тренировочном и валидационном сете"
   ]
  },
  {
   "cell_type": "code",
   "execution_count": 44,
   "id": "13ea3f72",
   "metadata": {},
   "outputs": [
    {
     "name": "stdout",
     "output_type": "stream",
     "text": [
      "1563/1563 - 29s - loss: 0.9574 - accuracy: 0.6573 - 29s/epoch - 19ms/step\n",
      "313/313 - 6s - loss: 1.0001 - accuracy: 0.6416 - 6s/epoch - 18ms/step\n",
      "train_loss: 0.9573948383331299, train_accuracy: 0.6572800278663635\n",
      "test_loss: 1.0000710487365723, test_accuracy: 0.6416000127792358\n"
     ]
    }
   ],
   "source": [
    "\n",
    "train_loss, train_m = model_1.evaluate(X_train, y_train, verbose=2)\n",
    "test_loss, test_m = model_1.evaluate(X_test, y_test, verbose=2)\n",
    "print(f'train_loss: {train_loss}, train_accuracy: {train_m}')\n",
    "print(f'test_loss: {test_loss}, test_accuracy: {test_m}')\n",
    "\n",
    "step.append(1)\n",
    "desc.append('Базовая модель')\n",
    "train_acc.append(round(train_m, 2))\n",
    "test_acc.append(round(test_m, 2))"
   ]
  },
  {
   "cell_type": "code",
   "execution_count": 15,
   "id": "f3f9215e",
   "metadata": {},
   "outputs": [
    {
     "name": "stdout",
     "output_type": "stream",
     "text": [
      "1/1 [==============================] - 0s 54ms/step\n"
     ]
    },
    {
     "data": {
      "image/png": "[encoded data removed]",
      "text/plain": [
       "<Figure size 432x288 with 1 Axes>"
      ]
     },
     "metadata": {
      "needs_background": "light"
     },
     "output_type": "display_data"
    }
   ],
   "source": [
    "#Наше пробное предсказание\n",
    "N = 10\n",
    "y_p = model_1.predict(X_test[N:N+1])\n",
    "y_t = np.argmax(y_test[N:N+1], axis = 1 )\n",
    "y_i = np.argmax(y_p, axis = 1 )\n",
    "plt.imshow(X_test[N])\n",
    "plt.title(f'это : {classes[y_t[0]]} - опознан как : {classes[y_i[0]]}')\n",
    "plt.show()"
   ]
  },
  {
   "cell_type": "markdown",
   "id": "3716c338",
   "metadata": {},
   "source": [
    "Как мы можем убедиться, на тестовой выборке у модели произошло переобучение, ввиду чего предсказание было ошибочно, хотя и близкое по симантическому смыслу."
   ]
  },
  {
   "cell_type": "code",
   "execution_count": 16,
   "id": "89529703",
   "metadata": {},
   "outputs": [
    {
     "name": "stdout",
     "output_type": "stream",
     "text": [
      "1/1 [==============================] - 0s 59ms/step\n"
     ]
    },
    {
     "data": {
      "image/png": "[encoded data removed]",
      "text/plain": [
       "<Figure size 432x288 with 1 Axes>"
      ]
     },
     "metadata": {
      "needs_background": "light"
     },
     "output_type": "display_data"
    }
   ],
   "source": [
    "N = 11\n",
    "y_p = model_1.predict(X_test[N:N+1])\n",
    "y_t = np.argmax(y_test[N:N+1], axis = 1 )\n",
    "y_i = np.argmax(y_p, axis = 1 )\n",
    "plt.imshow(X_test[N])\n",
    "plt.title(f'это : {classes[y_t[0]]} - опознан как : {classes[y_i[0]]}')\n",
    "plt.show()"
   ]
  },
  {
   "cell_type": "code",
   "execution_count": 17,
   "id": "98214c57",
   "metadata": {},
   "outputs": [
    {
     "name": "stdout",
     "output_type": "stream",
     "text": [
      "1/1 [==============================] - 0s 59ms/step\n"
     ]
    },
    {
     "data": {
      "image/png": "[encoded data removed]",
      "text/plain": [
       "<Figure size 432x288 with 1 Axes>"
      ]
     },
     "metadata": {
      "needs_background": "light"
     },
     "output_type": "display_data"
    }
   ],
   "source": [
    "N = 12\n",
    "y_p = model_1.predict(X_test[N:N+1])\n",
    "y_t = np.argmax(y_test[N:N+1], axis = 1 )\n",
    "y_i = np.argmax(y_p, axis = 1 )\n",
    "plt.imshow(X_test[N])\n",
    "plt.title(f'это : {classes[y_t[0]]} - опознан как : {classes[y_i[0]]}')\n",
    "plt.show()"
   ]
  },
  {
   "cell_type": "markdown",
   "id": "942e3eb9",
   "metadata": {},
   "source": [
    "Два последующих примера объектов были распознаны правильно."
   ]
  },
  {
   "cell_type": "markdown",
   "id": "1772eaef",
   "metadata": {},
   "source": [
    "#### Проверим точность при увеличении ширины сети (больше фильтров)"
   ]
  },
  {
   "cell_type": "code",
   "execution_count": 18,
   "id": "c79cc834",
   "metadata": {},
   "outputs": [
    {
     "name": "stdout",
     "output_type": "stream",
     "text": [
      "Model: \"sequential_1\"\n",
      "_________________________________________________________________\n",
      " Layer (type)                Output Shape              Param #   \n",
      "=================================================================\n",
      " conv2d_4 (Conv2D)           (None, 32, 32, 32)        896       \n",
      "                                                                 \n",
      " activation_7 (Activation)   (None, 32, 32, 32)        0         \n",
      "                                                                 \n",
      " conv2d_5 (Conv2D)           (None, 30, 30, 64)        18496     \n",
      "                                                                 \n",
      " activation_8 (Activation)   (None, 30, 30, 64)        0         \n",
      "                                                                 \n",
      " max_pooling2d_2 (MaxPooling  (None, 15, 15, 64)       0         \n",
      " 2D)                                                             \n",
      "                                                                 \n",
      " dropout_3 (Dropout)         (None, 15, 15, 64)        0         \n",
      "                                                                 \n",
      " conv2d_6 (Conv2D)           (None, 15, 15, 128)       73856     \n",
      "                                                                 \n",
      " activation_9 (Activation)   (None, 15, 15, 128)       0         \n",
      "                                                                 \n",
      " conv2d_7 (Conv2D)           (None, 13, 13, 256)       295168    \n",
      "                                                                 \n",
      " activation_10 (Activation)  (None, 13, 13, 256)       0         \n",
      "                                                                 \n",
      " max_pooling2d_3 (MaxPooling  (None, 6, 6, 256)        0         \n",
      " 2D)                                                             \n",
      "                                                                 \n",
      " dropout_4 (Dropout)         (None, 6, 6, 256)         0         \n",
      "                                                                 \n",
      " global_average_pooling2d_1   (None, 256)              0         \n",
      " (GlobalAveragePooling2D)                                        \n",
      "                                                                 \n",
      " dense_3 (Dense)             (None, 64)                16448     \n",
      "                                                                 \n",
      " activation_11 (Activation)  (None, 64)                0         \n",
      "                                                                 \n",
      " dense_4 (Dense)             (None, 32)                2080      \n",
      "                                                                 \n",
      " activation_12 (Activation)  (None, 32)                0         \n",
      "                                                                 \n",
      " dropout_5 (Dropout)         (None, 32)                0         \n",
      "                                                                 \n",
      " dense_5 (Dense)             (None, 10)                330       \n",
      "                                                                 \n",
      " activation_13 (Activation)  (None, 10)                0         \n",
      "                                                                 \n",
      "=================================================================\n",
      "Total params: 407,274\n",
      "Trainable params: 407,274\n",
      "Non-trainable params: 0\n",
      "_________________________________________________________________\n"
     ]
    }
   ],
   "source": [
    "# конфигурирование слоев нейросети\n",
    "model_2 = Sequential()\n",
    "\n",
    "# слои нейросети отвественные за свертку и max-pooling\n",
    "model_2.add(Conv2D(32, (3, 3), padding='same', input_shape=X_train.shape[1:]))\n",
    "model_2.add(Activation('relu'))\n",
    "model_2.add(Conv2D(64, (3, 3)))\n",
    "model_2.add(Activation('relu'))\n",
    "model_2.add(MaxPooling2D(pool_size=(2, 2)))\n",
    "model_2.add(Dropout(0.25))\n",
    "\n",
    "model_2.add(Conv2D(128, (3, 3), padding='same'))\n",
    "model_2.add(Activation('relu'))\n",
    "model_2.add(Conv2D(256, (3, 3)))\n",
    "model_2.add(Activation('relu'))\n",
    "model_2.add(MaxPooling2D(pool_size=(2, 2)))\n",
    "model_2.add(Dropout(0.25))\n",
    "\n",
    "# полносвязные слои нейронной сети\n",
    "model_2.add(GlobalAveragePooling2D())\n",
    "model_2.add(Dense(64))\n",
    "model_2.add(Activation('relu'))\n",
    "model_2.add(Dense(32))\n",
    "model_2.add(Activation('relu'))\n",
    "model_2.add(Dropout(0.5))\n",
    "model_2.add(Dense(num_classes))\n",
    "model_2.add(Activation('softmax'))\n",
    "\n",
    "model_2.summary()\n",
    "# компиляция модели\n",
    "model_2.compile(loss='categorical_crossentropy',\n",
    "                optimizer='Adam',\n",
    "                metrics=['accuracy'])"
   ]
  },
  {
   "cell_type": "code",
   "execution_count": 19,
   "id": "9429455c",
   "metadata": {},
   "outputs": [
    {
     "name": "stdout",
     "output_type": "stream",
     "text": [
      "Epoch 1/10\n",
      "782/782 [==============================] - 456s 579ms/step - loss: 1.9051 - accuracy: 0.2557 - val_loss: 1.6521 - val_accuracy: 0.3633\n",
      "Epoch 2/10\n",
      "782/782 [==============================] - 448s 573ms/step - loss: 1.6124 - accuracy: 0.3907 - val_loss: 1.4149 - val_accuracy: 0.4776\n",
      "Epoch 3/10\n",
      "782/782 [==============================] - 364s 465ms/step - loss: 1.4365 - accuracy: 0.4778 - val_loss: 1.2580 - val_accuracy: 0.5353\n",
      "Epoch 4/10\n",
      "782/782 [==============================] - 235s 300ms/step - loss: 1.3306 - accuracy: 0.5239 - val_loss: 1.1652 - val_accuracy: 0.5726\n",
      "Epoch 5/10\n",
      "782/782 [==============================] - 221s 283ms/step - loss: 1.2361 - accuracy: 0.5649 - val_loss: 1.1019 - val_accuracy: 0.6023\n",
      "Epoch 6/10\n",
      "782/782 [==============================] - 230s 294ms/step - loss: 1.1551 - accuracy: 0.5922 - val_loss: 0.9635 - val_accuracy: 0.6565\n",
      "Epoch 7/10\n",
      "782/782 [==============================] - 222s 283ms/step - loss: 1.0885 - accuracy: 0.6197 - val_loss: 0.9609 - val_accuracy: 0.6556\n",
      "Epoch 8/10\n",
      "782/782 [==============================] - 224s 286ms/step - loss: 1.0334 - accuracy: 0.6399 - val_loss: 0.8959 - val_accuracy: 0.6838\n",
      "Epoch 9/10\n",
      "782/782 [==============================] - 222s 284ms/step - loss: 0.9876 - accuracy: 0.6561 - val_loss: 0.8617 - val_accuracy: 0.6953\n",
      "Epoch 10/10\n",
      "782/782 [==============================] - 221s 283ms/step - loss: 0.9463 - accuracy: 0.6731 - val_loss: 0.8276 - val_accuracy: 0.7045\n"
     ]
    }
   ],
   "source": [
    "#Тренируем модель\n",
    "history_2 = model_2.fit(X_train, y_train,\n",
    "                        batch_size=batch_size,\n",
    "                        epochs=epochs,\n",
    "                        validation_data=(X_test, y_test))"
   ]
  },
  {
   "cell_type": "code",
   "execution_count": 45,
   "id": "6d8164a5",
   "metadata": {},
   "outputs": [
    {
     "name": "stdout",
     "output_type": "stream",
     "text": [
      "1563/1563 - 56s - loss: 0.7279 - accuracy: 0.7406 - 56s/epoch - 36ms/step\n",
      "313/313 - 11s - loss: 0.8276 - accuracy: 0.7045 - 11s/epoch - 37ms/step\n",
      "train_loss: 0.7279402613639832, train_accuracy: 0.7406399846076965\n",
      "test_loss: 0.8275877833366394, test_accuracy: 0.7045000195503235\n"
     ]
    }
   ],
   "source": [
    "#Посмотим метрики на тренировочном и валидационном сете\n",
    "\n",
    "train_loss, train_m = model_2.evaluate(X_train, y_train, verbose=2)\n",
    "test_loss, test_m = model_2.evaluate(X_test, y_test, verbose=2)\n",
    "print(f'train_loss: {train_loss}, train_accuracy: {train_m}')\n",
    "print(f'test_loss: {test_loss}, test_accuracy: {test_m}')\n",
    "\n",
    "step.append(2)\n",
    "desc.append('Шире - больше каналов')\n",
    "train_acc.append(round(train_m, 2))\n",
    "test_acc.append(round(test_m, 2))"
   ]
  },
  {
   "cell_type": "code",
   "execution_count": 21,
   "id": "0545d787",
   "metadata": {},
   "outputs": [
    {
     "name": "stdout",
     "output_type": "stream",
     "text": [
      "1/1 [==============================] - 0s 72ms/step\n"
     ]
    },
    {
     "data": {
      "image/png": "[encoded data removed]",
      "text/plain": [
       "<Figure size 432x288 with 1 Axes>"
      ]
     },
     "metadata": {
      "needs_background": "light"
     },
     "output_type": "display_data"
    }
   ],
   "source": [
    "#предсказание модели измененного размера\n",
    "N = 15\n",
    "y_p = model_2.predict(X_test[N:N+1])\n",
    "y_t = np.argmax(y_test[N:N+1], axis = 1 )\n",
    "y_i = np.argmax(y_p, axis = 1 )\n",
    "plt.imshow(X_test[N])\n",
    "plt.title(f'это : {classes[y_t[0]]} - опознан как : {classes[y_i[0]]}')\n",
    "plt.show()"
   ]
  },
  {
   "cell_type": "code",
   "execution_count": 24,
   "id": "f390b6c3",
   "metadata": {},
   "outputs": [
    {
     "name": "stdout",
     "output_type": "stream",
     "text": [
      "1/1 [==============================] - 0s 20ms/step\n"
     ]
    },
    {
     "data": {
      "image/png": "[encoded data removed]",
      "text/plain": [
       "<Figure size 432x288 with 1 Axes>"
      ]
     },
     "metadata": {
      "needs_background": "light"
     },
     "output_type": "display_data"
    }
   ],
   "source": [
    "N = 5\n",
    "y_p = model_2.predict(X_test[N:N+1])\n",
    "y_t = np.argmax(y_test[N:N+1], axis = 1 )\n",
    "y_i = np.argmax(y_p, axis = 1 )\n",
    "plt.imshow(X_test[N])\n",
    "plt.title(f'это : {classes[y_t[0]]} - опознан как : {classes[y_i[0]]}')\n",
    "plt.show()"
   ]
  },
  {
   "cell_type": "markdown",
   "id": "4e81cc06",
   "metadata": {},
   "source": [
    "Итак, с увеличением количества фильтров мы получаем выше качество (до 75% на тренировке и 70% на тесте) и меньше ошибку. Предсказания точнее, однако есть возможности для улучшения действующей модели... "
   ]
  },
  {
   "cell_type": "code",
   "execution_count": null,
   "id": "b0f0b2cc",
   "metadata": {},
   "outputs": [],
   "source": []
  },
  {
   "cell_type": "markdown",
   "id": "0c5c87c8",
   "metadata": {},
   "source": [
    "#### Проверим точность при увеличении глубины сети (больше слоев)"
   ]
  },
  {
   "cell_type": "code",
   "execution_count": 25,
   "id": "05d5601a",
   "metadata": {},
   "outputs": [
    {
     "name": "stdout",
     "output_type": "stream",
     "text": [
      "Model: \"sequential_2\"\n",
      "_________________________________________________________________\n",
      " Layer (type)                Output Shape              Param #   \n",
      "=================================================================\n",
      " conv2d_8 (Conv2D)           (None, 32, 32, 32)        896       \n",
      "                                                                 \n",
      " activation_14 (Activation)  (None, 32, 32, 32)        0         \n",
      "                                                                 \n",
      " conv2d_9 (Conv2D)           (None, 30, 30, 32)        9248      \n",
      "                                                                 \n",
      " activation_15 (Activation)  (None, 30, 30, 32)        0         \n",
      "                                                                 \n",
      " max_pooling2d_4 (MaxPooling  (None, 15, 15, 32)       0         \n",
      " 2D)                                                             \n",
      "                                                                 \n",
      " dropout_6 (Dropout)         (None, 15, 15, 32)        0         \n",
      "                                                                 \n",
      " conv2d_10 (Conv2D)          (None, 15, 15, 64)        18496     \n",
      "                                                                 \n",
      " activation_16 (Activation)  (None, 15, 15, 64)        0         \n",
      "                                                                 \n",
      " conv2d_11 (Conv2D)          (None, 13, 13, 64)        36928     \n",
      "                                                                 \n",
      " activation_17 (Activation)  (None, 13, 13, 64)        0         \n",
      "                                                                 \n",
      " max_pooling2d_5 (MaxPooling  (None, 6, 6, 64)         0         \n",
      " 2D)                                                             \n",
      "                                                                 \n",
      " dropout_7 (Dropout)         (None, 6, 6, 64)          0         \n",
      "                                                                 \n",
      " conv2d_12 (Conv2D)          (None, 6, 6, 64)          36928     \n",
      "                                                                 \n",
      " activation_18 (Activation)  (None, 6, 6, 64)          0         \n",
      "                                                                 \n",
      " conv2d_13 (Conv2D)          (None, 4, 4, 64)          36928     \n",
      "                                                                 \n",
      " activation_19 (Activation)  (None, 4, 4, 64)          0         \n",
      "                                                                 \n",
      " max_pooling2d_6 (MaxPooling  (None, 2, 2, 64)         0         \n",
      " 2D)                                                             \n",
      "                                                                 \n",
      " dropout_8 (Dropout)         (None, 2, 2, 64)          0         \n",
      "                                                                 \n",
      " global_average_pooling2d_2   (None, 64)               0         \n",
      " (GlobalAveragePooling2D)                                        \n",
      "                                                                 \n",
      " dense_6 (Dense)             (None, 64)                4160      \n",
      "                                                                 \n",
      " activation_20 (Activation)  (None, 64)                0         \n",
      "                                                                 \n",
      " dense_7 (Dense)             (None, 32)                2080      \n",
      "                                                                 \n",
      " activation_21 (Activation)  (None, 32)                0         \n",
      "                                                                 \n",
      " dropout_9 (Dropout)         (None, 32)                0         \n",
      "                                                                 \n",
      " dense_8 (Dense)             (None, 10)                330       \n",
      "                                                                 \n",
      " activation_22 (Activation)  (None, 10)                0         \n",
      "                                                                 \n",
      "=================================================================\n",
      "Total params: 145,994\n",
      "Trainable params: 145,994\n",
      "Non-trainable params: 0\n",
      "_________________________________________________________________\n"
     ]
    }
   ],
   "source": [
    "# конфигурирование слоев нейросети\n",
    "model_3 = Sequential()\n",
    "\n",
    "# слои нейросети отвественные за свертку и max-pooling\n",
    "model_3.add(Conv2D(32, (3, 3), padding='same', input_shape=X_train.shape[1:]))\n",
    "model_3.add(Activation('relu'))\n",
    "model_3.add(Conv2D(32, (3, 3)))\n",
    "model_3.add(Activation('relu'))\n",
    "model_3.add(MaxPooling2D(pool_size=(2, 2)))\n",
    "model_3.add(Dropout(0.25))\n",
    "\n",
    "model_3.add(Conv2D(64, (3, 3), padding='same'))\n",
    "model_3.add(Activation('relu'))\n",
    "model_3.add(Conv2D(64, (3, 3)))\n",
    "model_3.add(Activation('relu'))\n",
    "model_3.add(MaxPooling2D(pool_size=(2, 2)))\n",
    "model_3.add(Dropout(0.25))\n",
    "\n",
    "model_3.add(Conv2D(64, (3, 3), padding='same'))\n",
    "model_3.add(Activation('relu'))\n",
    "model_3.add(Conv2D(64, (3, 3)))\n",
    "model_3.add(Activation('relu'))\n",
    "model_3.add(MaxPooling2D(pool_size=(2, 2)))\n",
    "model_3.add(Dropout(0.25))\n",
    "\n",
    "\n",
    "# полносвязные слои нейронной сети\n",
    "model_3.add(GlobalAveragePooling2D())\n",
    "model_3.add(Dense(64))\n",
    "model_3.add(Activation('relu'))\n",
    "model_3.add(Dense(32))\n",
    "model_3.add(Activation('relu'))\n",
    "model_3.add(Dropout(0.5))\n",
    "model_3.add(Dense(num_classes))\n",
    "model_3.add(Activation('softmax'))\n",
    "\n",
    "model_3.summary()\n",
    "# компиляция модели\n",
    "model_3.compile(loss='categorical_crossentropy',\n",
    "                optimizer='Adam',\n",
    "                metrics=['accuracy'])"
   ]
  },
  {
   "cell_type": "code",
   "execution_count": 26,
   "id": "0b34a753",
   "metadata": {},
   "outputs": [
    {
     "name": "stdout",
     "output_type": "stream",
     "text": [
      "Epoch 1/10\n",
      "782/782 [==============================] - 94s 118ms/step - loss: 1.9192 - accuracy: 0.2576 - val_loss: 1.6252 - val_accuracy: 0.3847\n",
      "Epoch 2/10\n",
      "782/782 [==============================] - 88s 113ms/step - loss: 1.5782 - accuracy: 0.4141 - val_loss: 1.3523 - val_accuracy: 0.5070\n",
      "Epoch 3/10\n",
      "782/782 [==============================] - 93s 119ms/step - loss: 1.3883 - accuracy: 0.5061 - val_loss: 1.1685 - val_accuracy: 0.5736\n",
      "Epoch 4/10\n",
      "782/782 [==============================] - 87s 111ms/step - loss: 1.2555 - accuracy: 0.5602 - val_loss: 1.0815 - val_accuracy: 0.6087\n",
      "Epoch 5/10\n",
      "782/782 [==============================] - 87s 112ms/step - loss: 1.1686 - accuracy: 0.5947 - val_loss: 1.0334 - val_accuracy: 0.6329\n",
      "Epoch 6/10\n",
      "782/782 [==============================] - 87s 111ms/step - loss: 1.1035 - accuracy: 0.6196 - val_loss: 0.9260 - val_accuracy: 0.6721\n",
      "Epoch 7/10\n",
      "782/782 [==============================] - 86s 110ms/step - loss: 1.0463 - accuracy: 0.6428 - val_loss: 0.9134 - val_accuracy: 0.6847\n",
      "Epoch 8/10\n",
      "782/782 [==============================] - 85s 109ms/step - loss: 1.0075 - accuracy: 0.6584 - val_loss: 0.8405 - val_accuracy: 0.7105\n",
      "Epoch 9/10\n",
      "782/782 [==============================] - 85s 109ms/step - loss: 0.9639 - accuracy: 0.6734 - val_loss: 0.8423 - val_accuracy: 0.7054\n",
      "Epoch 10/10\n",
      "782/782 [==============================] - 85s 109ms/step - loss: 0.9348 - accuracy: 0.6871 - val_loss: 0.8180 - val_accuracy: 0.7153\n"
     ]
    }
   ],
   "source": [
    "#обучаем\n",
    "history_3 = model_3.fit(X_train, y_train,\n",
    "                        batch_size=batch_size,\n",
    "                        epochs=epochs,\n",
    "                        validation_data=(X_test, y_test))   "
   ]
  },
  {
   "cell_type": "code",
   "execution_count": 46,
   "id": "12ff503b",
   "metadata": {},
   "outputs": [
    {
     "name": "stdout",
     "output_type": "stream",
     "text": [
      "1563/1563 - 36s - loss: 0.7113 - accuracy: 0.7450 - 36s/epoch - 23ms/step\n",
      "313/313 - 7s - loss: 0.8180 - accuracy: 0.7153 - 7s/epoch - 23ms/step\n",
      "train_loss: 0.7112600207328796, train_accuracy: 0.7450000047683716\n",
      "test_loss: 0.8180299401283264, test_accuracy: 0.7153000235557556\n"
     ]
    }
   ],
   "source": [
    "# смотрим метрики\n",
    "\n",
    "train_loss, train_m = model_3.evaluate(X_train, y_train, verbose=2)\n",
    "test_loss, test_m = model_3.evaluate(X_test, y_test, verbose=2)\n",
    "print(f'train_loss: {train_loss}, train_accuracy: {train_m}')\n",
    "print(f'test_loss: {test_loss}, test_accuracy: {test_m}')\n",
    "\n",
    "step.append(3)\n",
    "desc.append('Глубже - больше слоев')\n",
    "train_acc.append(round(train_m,2))\n",
    "test_acc.append(round(test_m,2))"
   ]
  },
  {
   "cell_type": "code",
   "execution_count": 28,
   "id": "b545d77c",
   "metadata": {},
   "outputs": [
    {
     "name": "stdout",
     "output_type": "stream",
     "text": [
      "1/1 [==============================] - 0s 114ms/step\n"
     ]
    },
    {
     "data": {
      "image/png": "[encoded data removed]",
      "text/plain": [
       "<Figure size 432x288 with 1 Axes>"
      ]
     },
     "metadata": {
      "needs_background": "light"
     },
     "output_type": "display_data"
    }
   ],
   "source": [
    "#предсказание\n",
    "N = 30\n",
    "y_p = model_3.predict(X_test[N:N+1])\n",
    "y_t = np.argmax(y_test[N:N+1], axis = 1 )\n",
    "y_i = np.argmax(y_p, axis = 1 )\n",
    "plt.imshow(X_test[N])\n",
    "plt.title(f'это : {classes[y_t[0]]} - опознан как : {classes[y_i[0]]}')\n",
    "plt.show()"
   ]
  },
  {
   "cell_type": "code",
   "execution_count": 30,
   "id": "822bbfc4",
   "metadata": {},
   "outputs": [
    {
     "name": "stdout",
     "output_type": "stream",
     "text": [
      "1/1 [==============================] - 0s 34ms/step\n"
     ]
    },
    {
     "data": {
      "image/png": "[encoded data removed]",
      "text/plain": [
       "<Figure size 432x288 with 1 Axes>"
      ]
     },
     "metadata": {
      "needs_background": "light"
     },
     "output_type": "display_data"
    }
   ],
   "source": [
    "N = 1001\n",
    "y_p = model_3.predict(X_test[N:N+1])\n",
    "y_t = np.argmax(y_test[N:N+1], axis = 1 )\n",
    "y_i = np.argmax(y_p, axis = 1 )\n",
    "plt.imshow(X_test[N])\n",
    "plt.title(f'это : {classes[y_t[0]]} - опознан как : {classes[y_i[0]]}')\n",
    "plt.show()"
   ]
  },
  {
   "cell_type": "markdown",
   "id": "99766281",
   "metadata": {},
   "source": [
    "Метрики похожи на показатели предыдущей одели: на трейне - 74%, на тесте - 70%. Качество не плохое, предсказания выдает."
   ]
  },
  {
   "cell_type": "markdown",
   "id": "16655852",
   "metadata": {},
   "source": [
    "#### Полносвязная сеть для этой выборки"
   ]
  },
  {
   "cell_type": "code",
   "execution_count": 31,
   "id": "8f1565cb",
   "metadata": {},
   "outputs": [
    {
     "name": "stdout",
     "output_type": "stream",
     "text": [
      "Model: \"sequential_3\"\n",
      "_________________________________________________________________\n",
      " Layer (type)                Output Shape              Param #   \n",
      "=================================================================\n",
      " flatten (Flatten)           (None, 3072)              0         \n",
      "                                                                 \n",
      " dense_9 (Dense)             (None, 512)               1573376   \n",
      "                                                                 \n",
      " activation_23 (Activation)  (None, 512)               0         \n",
      "                                                                 \n",
      " dense_10 (Dense)            (None, 256)               131328    \n",
      "                                                                 \n",
      " activation_24 (Activation)  (None, 256)               0         \n",
      "                                                                 \n",
      " dropout_10 (Dropout)        (None, 256)               0         \n",
      "                                                                 \n",
      " dense_11 (Dense)            (None, 10)                2570      \n",
      "                                                                 \n",
      " activation_25 (Activation)  (None, 10)                0         \n",
      "                                                                 \n",
      "=================================================================\n",
      "Total params: 1,707,274\n",
      "Trainable params: 1,707,274\n",
      "Non-trainable params: 0\n",
      "_________________________________________________________________\n"
     ]
    }
   ],
   "source": [
    "# конфигурирование слоев нейросети\n",
    "model_4 = Sequential()\n",
    "\n",
    "# полносвязные слои нейронной сети\n",
    "model_4.add(Flatten(input_shape=X_train.shape[1:]))\n",
    "model_4.add(Dense(512))\n",
    "model_4.add(Activation('relu'))\n",
    "model_4.add(Dense(256))\n",
    "model_4.add(Activation('relu'))\n",
    "model_4.add(Dropout(0.5))\n",
    "model_4.add(Dense(num_classes))\n",
    "model_4.add(Activation('softmax'))\n",
    "\n",
    "model_4.summary()\n",
    "# компиляция модели\n",
    "model_4.compile(loss='categorical_crossentropy',\n",
    "                optimizer='Adam',\n",
    "                metrics=['accuracy'])"
   ]
  },
  {
   "cell_type": "code",
   "execution_count": 32,
   "id": "029a3555",
   "metadata": {},
   "outputs": [
    {
     "name": "stdout",
     "output_type": "stream",
     "text": [
      "Epoch 1/10\n",
      "782/782 [==============================] - 17s 21ms/step - loss: 1.9863 - accuracy: 0.2731 - val_loss: 1.7695 - val_accuracy: 0.3719\n",
      "Epoch 2/10\n",
      "782/782 [==============================] - 16s 21ms/step - loss: 1.7761 - accuracy: 0.3629 - val_loss: 1.6919 - val_accuracy: 0.3966\n",
      "Epoch 3/10\n",
      "782/782 [==============================] - 17s 22ms/step - loss: 1.7128 - accuracy: 0.3901 - val_loss: 1.6275 - val_accuracy: 0.4269\n",
      "Epoch 4/10\n",
      "782/782 [==============================] - 17s 22ms/step - loss: 1.6616 - accuracy: 0.4090 - val_loss: 1.6203 - val_accuracy: 0.4191\n",
      "Epoch 5/10\n",
      "782/782 [==============================] - 17s 22ms/step - loss: 1.6197 - accuracy: 0.4224 - val_loss: 1.5695 - val_accuracy: 0.4414\n",
      "Epoch 6/10\n",
      "782/782 [==============================] - 17s 22ms/step - loss: 1.5945 - accuracy: 0.4323 - val_loss: 1.5322 - val_accuracy: 0.4572\n",
      "Epoch 7/10\n",
      "782/782 [==============================] - 17s 22ms/step - loss: 1.5696 - accuracy: 0.4413 - val_loss: 1.5443 - val_accuracy: 0.4424\n",
      "Epoch 8/10\n",
      "782/782 [==============================] - 17s 22ms/step - loss: 1.5556 - accuracy: 0.4451 - val_loss: 1.5520 - val_accuracy: 0.4464\n",
      "Epoch 9/10\n",
      "782/782 [==============================] - 17s 22ms/step - loss: 1.5420 - accuracy: 0.4514 - val_loss: 1.5241 - val_accuracy: 0.4532\n",
      "Epoch 10/10\n",
      "782/782 [==============================] - 17s 22ms/step - loss: 1.5252 - accuracy: 0.4560 - val_loss: 1.4998 - val_accuracy: 0.4656\n"
     ]
    }
   ],
   "source": [
    "#обучение\n",
    "history_4 = model_4.fit(X_train, y_train,\n",
    "                        batch_size=batch_size,\n",
    "                        epochs=epochs,\n",
    "                        validation_data=(X_test, y_test))"
   ]
  },
  {
   "cell_type": "code",
   "execution_count": 47,
   "id": "b92cf08d",
   "metadata": {},
   "outputs": [
    {
     "name": "stdout",
     "output_type": "stream",
     "text": [
      "1563/1563 - 8s - loss: 1.4344 - accuracy: 0.4877 - 8s/epoch - 5ms/step\n",
      "313/313 - 2s - loss: 1.4998 - accuracy: 0.4656 - 2s/epoch - 5ms/step\n",
      "train_loss: 1.434403419494629, train_accuracy: 0.4876599907875061\n",
      "test_loss: 1.4997899532318115, test_accuracy: 0.46560001373291016\n"
     ]
    }
   ],
   "source": [
    "#печатаем метрики\n",
    "\n",
    "train_loss, train_m = model_4.evaluate(X_train, y_train, verbose=2)\n",
    "test_loss, test_m = model_4.evaluate(X_test, y_test, verbose=2)\n",
    "print(f'train_loss: {train_loss}, train_accuracy: {train_m}')\n",
    "print(f'test_loss: {test_loss}, test_accuracy: {test_m}')\n",
    "\n",
    "step.append(4)\n",
    "desc.append('Полносвязная сеть')\n",
    "train_acc.append(round(train_m,2))\n",
    "test_acc.append(round(test_m,2))"
   ]
  },
  {
   "cell_type": "code",
   "execution_count": 48,
   "id": "e381e8ac",
   "metadata": {},
   "outputs": [
    {
     "name": "stdout",
     "output_type": "stream",
     "text": [
      "1/1 [==============================] - 0s 35ms/step\n"
     ]
    },
    {
     "data": {
      "image/png": "[encoded data removed]",
      "text/plain": [
       "<Figure size 432x288 with 1 Axes>"
      ]
     },
     "metadata": {
      "needs_background": "light"
     },
     "output_type": "display_data"
    }
   ],
   "source": [
    "#предсказание\n",
    "N = 40\n",
    "y_p = model_4.predict(X_test[N:N+1])\n",
    "y_t = np.argmax(y_test[N:N+1], axis = 1 )\n",
    "y_i = np.argmax(y_p, axis = 1 )\n",
    "plt.imshow(X_test[N])\n",
    "plt.title(f'это : {classes[y_t[0]]} - опознан как : {classes[y_i[0]]}')\n",
    "plt.show()"
   ]
  },
  {
   "cell_type": "code",
   "execution_count": 63,
   "id": "8c7ec5c7",
   "metadata": {},
   "outputs": [],
   "source": [
    "#results['step'] = step\n",
    "#results['desc'] = desc\n",
    "#results['train_acc'] = train_acc\n",
    "#results['test_acc'] = test_acc"
   ]
  },
  {
   "cell_type": "code",
   "execution_count": 62,
   "id": "66c4a107",
   "metadata": {},
   "outputs": [
    {
     "data": {
      "text/html": [
       "<div>\n",
       "<style scoped>\n",
       "    .dataframe tbody tr th:only-of-type {\n",
       "        vertical-align: middle;\n",
       "    }\n",
       "\n",
       "    .dataframe tbody tr th {\n",
       "        vertical-align: top;\n",
       "    }\n",
       "\n",
       "    .dataframe thead th {\n",
       "        text-align: right;\n",
       "    }\n",
       "</style>\n",
       "<table border=\"1\" class=\"dataframe\">\n",
       "  <thead>\n",
       "    <tr style=\"text-align: right;\">\n",
       "      <th></th>\n",
       "      <th>step</th>\n",
       "      <th>desc</th>\n",
       "      <th>train_acc</th>\n",
       "      <th>test_acc</th>\n",
       "      <th>model_time_fit</th>\n",
       "    </tr>\n",
       "  </thead>\n",
       "  <tbody>\n",
       "    <tr>\n",
       "      <th>0</th>\n",
       "      <td>1</td>\n",
       "      <td>Базовая модель</td>\n",
       "      <td>0.66</td>\n",
       "      <td>0.64</td>\n",
       "      <td>Базовая модель</td>\n",
       "    </tr>\n",
       "    <tr>\n",
       "      <th>1</th>\n",
       "      <td>2</td>\n",
       "      <td>Шире - больше каналов</td>\n",
       "      <td>0.74</td>\n",
       "      <td>0.70</td>\n",
       "      <td>Шире - больше каналов</td>\n",
       "    </tr>\n",
       "    <tr>\n",
       "      <th>2</th>\n",
       "      <td>3</td>\n",
       "      <td>Глубже - больше слоев</td>\n",
       "      <td>0.75</td>\n",
       "      <td>0.72</td>\n",
       "      <td>Глубже - больше слоев</td>\n",
       "    </tr>\n",
       "    <tr>\n",
       "      <th>3</th>\n",
       "      <td>4</td>\n",
       "      <td>Полносвязная сеть</td>\n",
       "      <td>0.49</td>\n",
       "      <td>0.47</td>\n",
       "      <td>Полносвязная сеть</td>\n",
       "    </tr>\n",
       "  </tbody>\n",
       "</table>\n",
       "</div>"
      ],
      "text/plain": [
       "   step                   desc  train_acc  test_acc         model_time_fit\n",
       "0     1         Базовая модель       0.66      0.64         Базовая модель\n",
       "1     2  Шире - больше каналов       0.74      0.70  Шире - больше каналов\n",
       "2     3  Глубже - больше слоев       0.75      0.72  Глубже - больше слоев\n",
       "3     4      Полносвязная сеть       0.49      0.47      Полносвязная сеть"
      ]
     },
     "execution_count": 62,
     "metadata": {},
     "output_type": "execute_result"
    }
   ],
   "source": [
    "results"
   ]
  },
  {
   "cell_type": "markdown",
   "id": "b82157d7",
   "metadata": {},
   "source": [
    "### Выводы:\n",
    "\n",
    "1. увеличение количества фильтров, т.е. увеличение итогового количества признаков, увеличило значение метрики. Эта же модель оказалась самой медленной;<br>\n",
    "2. увеличение глубины сети с увеличением на треть количества слоев увеличило метрику качества и показало самый лучший результат, однако такая модель работает почти в 3,5 раза быстрее, чем \"широкая\";<br>\n",
    "3. полносвязная сеть без сверточных слоев показывает самое низкое качество и она же является самой быстрой. Таким образом сверточные слои играют важную роль в обработке.<br>\n",
    "4. хочется отметить, что все последовательные изменения значительно сказались на скорости обучения сеток. Базовая модель model_1 потратила примерно 26 минут, model_2 - 47 мин., model_3 - 14 мин., model_4 - 2,8 мин.\n",
    "\n",
    "Итоговый вывод такой: для каждого набора данных нужно выбирать те методы, которые соответствуют характеру представления этих данных. Для маленьких полноцветных картинок нашего датасета лучше подошла глубокая модель с большим на треть количеством сверточных слоев, она же стала самой быстрой из результативных. Так как \"полносвязную\" модель в чистом виде без прослойки сверточных слоев, из-за плохого качества использовать невозможно, то учитывая стоимость обучения, лучшей признается model_3 (\"глубокая\") на данном этапе."
   ]
  },
  {
   "cell_type": "code",
   "execution_count": null,
   "id": "5bad27c5",
   "metadata": {},
   "outputs": [],
   "source": []
  },
  {
   "cell_type": "code",
   "execution_count": null,
   "id": "35edd90f",
   "metadata": {},
   "outputs": [],
   "source": []
  },
  {
   "cell_type": "code",
   "execution_count": null,
   "id": "2e0fac8a",
   "metadata": {},
   "outputs": [],
   "source": []
  },
  {
   "cell_type": "code",
   "execution_count": null,
   "id": "4367ea10",
   "metadata": {},
   "outputs": [],
   "source": []
  }
 ],
 "metadata": {
  "kernelspec": {
   "display_name": "Python 3 (ipykernel)",
   "language": "python",
   "name": "python3"
  },
  "language_info": {
   "codemirror_mode": {
    "name": "ipython",
    "version": 3
   },
   "file_extension": ".py",
   "mimetype": "text/x-python",
   "name": "python",
   "nbconvert_exporter": "python",
   "pygments_lexer": "ipython3",
   "version": "3.9.12"
  }
 },
 "nbformat": 4,
 "nbformat_minor": 5
}
