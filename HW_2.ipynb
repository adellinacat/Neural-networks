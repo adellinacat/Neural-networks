{
 "cells": [
  {
   "cell_type": "markdown",
   "id": "add56a15",
   "metadata": {},
   "source": [
    "## Введение в нейронные сети 2\n",
    "\n",
    "## Keras\n",
    "#### Задание:\n",
    "1. Попробуйте обучить, нейронную сеть на Keras (рассмотренную на уроке) на датасете fashion_mnist с другими параметрами.\n",
    "2. Какого результата вы добились от нейросети?\n",
    "3. Что помогло вам улучшить её точность?\n",
    "4. Поработайте с документацией Keras. Попробуйте найти полезные команды Keras, неразобранные на уроке."
   ]
  },
  {
   "cell_type": "code",
   "execution_count": 2,
   "id": "5944cb9d",
   "metadata": {},
   "outputs": [
    {
     "name": "stdout",
     "output_type": "stream",
     "text": [
      "Defaulting to user installation because normal site-packages is not writeable\n",
      "Collecting keras\n",
      "  Downloading keras-2.12.0-py2.py3-none-any.whl (1.7 MB)\n",
      "Installing collected packages: keras\n",
      "Successfully installed keras-2.12.0\n"
     ]
    }
   ],
   "source": [
    "!pip install keras"
   ]
  },
  {
   "cell_type": "code",
   "execution_count": 4,
   "id": "47b8674d",
   "metadata": {},
   "outputs": [
    {
     "name": "stdout",
     "output_type": "stream",
     "text": [
      "Defaulting to user installation because normal site-packages is not writeable"
     ]
    },
    {
     "name": "stderr",
     "output_type": "stream",
     "text": [
      "  WARNING: The script f2py.exe is installed in 'C:\\Users\\Инна\\AppData\\Roaming\\Python\\Python39\\Scripts' which is not on PATH.\n",
      "  Consider adding this directory to PATH or, if you prefer to suppress this warning, use --no-warn-script-location.\n",
      "  WARNING: The script google-oauthlib-tool.exe is installed in 'C:\\Users\\Инна\\AppData\\Roaming\\Python\\Python39\\Scripts' which is not on PATH.\n",
      "  Consider adding this directory to PATH or, if you prefer to suppress this warning, use --no-warn-script-location.\n",
      "  WARNING: The script tensorboard.exe is installed in 'C:\\Users\\Инна\\AppData\\Roaming\\Python\\Python39\\Scripts' which is not on PATH.\n",
      "  Consider adding this directory to PATH or, if you prefer to suppress this warning, use --no-warn-script-location.\n",
      "  WARNING: The scripts estimator_ckpt_converter.exe, import_pb_to_tensorboard.exe, saved_model_cli.exe, tensorboard.exe, tf_upgrade_v2.exe, tflite_convert.exe, toco.exe and toco_from_protos.exe are installed in 'C:\\Users\\Инна\\AppData\\Roaming\\Python\\Python39\\Scripts' which is not on PATH.\n",
      "  Consider adding this directory to PATH or, if you prefer to suppress this warning, use --no-warn-script-location.\n",
      "ERROR: pip's dependency resolver does not currently take into account all the packages that are installed. This behaviour is the source of the following dependency conflicts.\n",
      "daal4py 2021.5.0 requires daal==2021.4.0, which is not installed.\n",
      "numba 0.55.1 requires numpy<1.22,>=1.18, but you have numpy 1.22.4 which is incompatible.\n",
      "google-cloud-storage 1.31.0 requires google-auth<2.0dev,>=1.11.0, but you have google-auth 2.20.0 which is incompatible.\n",
      "google-cloud-core 1.7.1 requires google-auth<2.0dev,>=1.24.0, but you have google-auth 2.20.0 which is incompatible.\n",
      "google-api-core 1.25.1 requires google-auth<2.0dev,>=1.21.1, but you have google-auth 2.20.0 which is incompatible.\n"
     ]
    },
    {
     "name": "stdout",
     "output_type": "stream",
     "text": [
      "\n",
      "Collecting tensorflow\n",
      "  Downloading tensorflow-2.12.0-cp39-cp39-win_amd64.whl (1.9 kB)\n",
      "Collecting tensorflow-intel==2.12.0\n",
      "  Downloading tensorflow_intel-2.12.0-cp39-cp39-win_amd64.whl (272.8 MB)\n",
      "Collecting libclang>=13.0.0\n",
      "  Downloading libclang-16.0.0-py2.py3-none-win_amd64.whl (24.4 MB)\n",
      "Requirement already satisfied: setuptools in c:\\programdata\\anaconda3\\lib\\site-packages (from tensorflow-intel==2.12.0->tensorflow) (61.2.0)\n",
      "Collecting jax>=0.3.15\n",
      "  Downloading jax-0.4.12.tar.gz (1.3 MB)\n",
      "  Installing build dependencies: started\n",
      "  Installing build dependencies: finished with status 'done'\n",
      "  Getting requirements to build wheel: started\n",
      "  Getting requirements to build wheel: finished with status 'done'\n",
      "    Preparing wheel metadata: started\n",
      "    Preparing wheel metadata: finished with status 'done'\n",
      "Collecting tensorflow-estimator<2.13,>=2.12.0\n",
      "  Downloading tensorflow_estimator-2.12.0-py2.py3-none-any.whl (440 kB)\n",
      "Collecting flatbuffers>=2.0\n",
      "  Downloading flatbuffers-23.5.26-py2.py3-none-any.whl (26 kB)\n",
      "Collecting tensorboard<2.13,>=2.12\n",
      "  Downloading tensorboard-2.12.3-py3-none-any.whl (5.6 MB)\n",
      "Requirement already satisfied: h5py>=2.9.0 in c:\\programdata\\anaconda3\\lib\\site-packages (from tensorflow-intel==2.12.0->tensorflow) (3.6.0)\n",
      "Collecting termcolor>=1.1.0\n",
      "  Downloading termcolor-2.3.0-py3-none-any.whl (6.9 kB)\n",
      "Collecting tensorflow-io-gcs-filesystem>=0.23.1\n",
      "  Downloading tensorflow_io_gcs_filesystem-0.31.0-cp39-cp39-win_amd64.whl (1.5 MB)\n",
      "Collecting protobuf!=4.21.0,!=4.21.1,!=4.21.2,!=4.21.3,!=4.21.4,!=4.21.5,<5.0.0dev,>=3.20.3\n",
      "  Downloading protobuf-4.23.3-cp39-cp39-win_amd64.whl (422 kB)\n",
      "Collecting google-pasta>=0.1.1\n",
      "  Using cached google_pasta-0.2.0-py3-none-any.whl (57 kB)\n",
      "Requirement already satisfied: keras<2.13,>=2.12.0 in c:\\users\\инна\\appdata\\roaming\\python\\python39\\site-packages (from tensorflow-intel==2.12.0->tensorflow) (2.12.0)\n",
      "Collecting astunparse>=1.6.0\n",
      "  Using cached astunparse-1.6.3-py2.py3-none-any.whl (12 kB)\n",
      "Requirement already satisfied: packaging in c:\\programdata\\anaconda3\\lib\\site-packages (from tensorflow-intel==2.12.0->tensorflow) (21.3)\n",
      "Collecting gast<=0.4.0,>=0.2.1\n",
      "  Using cached gast-0.4.0-py3-none-any.whl (9.8 kB)\n",
      "Requirement already satisfied: six>=1.12.0 in c:\\programdata\\anaconda3\\lib\\site-packages (from tensorflow-intel==2.12.0->tensorflow) (1.16.0)\n",
      "Collecting numpy<1.24,>=1.22\n",
      "  Downloading numpy-1.23.5-cp39-cp39-win_amd64.whl (14.7 MB)\n",
      "Requirement already satisfied: opt-einsum>=2.3.2 in c:\\users\\инна\\appdata\\roaming\\python\\python39\\site-packages (from tensorflow-intel==2.12.0->tensorflow) (3.3.0)\n",
      "Collecting absl-py>=1.0.0\n",
      "  Downloading absl_py-1.4.0-py3-none-any.whl (126 kB)\n",
      "Requirement already satisfied: grpcio<2.0,>=1.24.3 in c:\\programdata\\anaconda3\\lib\\site-packages (from tensorflow-intel==2.12.0->tensorflow) (1.42.0)\n",
      "Requirement already satisfied: wrapt<1.15,>=1.11.0 in c:\\programdata\\anaconda3\\lib\\site-packages (from tensorflow-intel==2.12.0->tensorflow) (1.12.1)\n",
      "Requirement already satisfied: typing-extensions>=3.6.6 in c:\\programdata\\anaconda3\\lib\\site-packages (from tensorflow-intel==2.12.0->tensorflow) (4.1.1)\n",
      "Requirement already satisfied: wheel<1.0,>=0.23.0 in c:\\programdata\\anaconda3\\lib\\site-packages (from astunparse>=1.6.0->tensorflow-intel==2.12.0->tensorflow) (0.37.1)\n",
      "Requirement already satisfied: importlib-metadata>=4.6 in c:\\programdata\\anaconda3\\lib\\site-packages (from jax>=0.3.15->tensorflow-intel==2.12.0->tensorflow) (4.11.3)\n",
      "Requirement already satisfied: scipy>=1.7 in c:\\programdata\\anaconda3\\lib\\site-packages (from jax>=0.3.15->tensorflow-intel==2.12.0->tensorflow) (1.7.3)\n",
      "Collecting ml-dtypes>=0.1.0\n",
      "  Downloading ml_dtypes-0.2.0-cp39-cp39-win_amd64.whl (938 kB)\n",
      "Requirement already satisfied: zipp>=0.5 in c:\\programdata\\anaconda3\\lib\\site-packages (from importlib-metadata>=4.6->jax>=0.3.15->tensorflow-intel==2.12.0->tensorflow) (3.7.0)\n",
      "Collecting numpy<1.24,>=1.22\n",
      "  Downloading numpy-1.22.4-cp39-cp39-win_amd64.whl (14.7 MB)\n",
      "Requirement already satisfied: werkzeug>=1.0.1 in c:\\programdata\\anaconda3\\lib\\site-packages (from tensorboard<2.13,>=2.12->tensorflow-intel==2.12.0->tensorflow) (2.0.3)\n",
      "Collecting google-auth-oauthlib<1.1,>=0.5\n",
      "  Downloading google_auth_oauthlib-1.0.0-py2.py3-none-any.whl (18 kB)\n",
      "Requirement already satisfied: markdown>=2.6.8 in c:\\programdata\\anaconda3\\lib\\site-packages (from tensorboard<2.13,>=2.12->tensorflow-intel==2.12.0->tensorflow) (3.3.4)\n",
      "Requirement already satisfied: requests<3,>=2.21.0 in c:\\programdata\\anaconda3\\lib\\site-packages (from tensorboard<2.13,>=2.12->tensorflow-intel==2.12.0->tensorflow) (2.27.1)\n",
      "Collecting tensorboard-data-server<0.8.0,>=0.7.0\n",
      "  Downloading tensorboard_data_server-0.7.1-py3-none-any.whl (2.4 kB)\n",
      "Collecting grpcio<2.0,>=1.24.3\n",
      "  Downloading grpcio-1.54.2-cp39-cp39-win_amd64.whl (4.1 MB)\n",
      "Requirement already satisfied: google-auth<3,>=1.6.3 in c:\\programdata\\anaconda3\\lib\\site-packages (from tensorboard<2.13,>=2.12->tensorflow-intel==2.12.0->tensorflow) (1.33.0)\n",
      "Requirement already satisfied: cachetools<5.0,>=2.0.0 in c:\\programdata\\anaconda3\\lib\\site-packages (from google-auth<3,>=1.6.3->tensorboard<2.13,>=2.12->tensorflow-intel==2.12.0->tensorflow) (4.2.2)\n",
      "Requirement already satisfied: pyasn1-modules>=0.2.1 in c:\\programdata\\anaconda3\\lib\\site-packages (from google-auth<3,>=1.6.3->tensorboard<2.13,>=2.12->tensorflow-intel==2.12.0->tensorflow) (0.2.8)\n",
      "Requirement already satisfied: rsa<5,>=3.1.4 in c:\\programdata\\anaconda3\\lib\\site-packages (from google-auth<3,>=1.6.3->tensorboard<2.13,>=2.12->tensorflow-intel==2.12.0->tensorflow) (4.7.2)\n",
      "Collecting requests-oauthlib>=0.7.0\n",
      "  Using cached requests_oauthlib-1.3.1-py2.py3-none-any.whl (23 kB)\n",
      "Collecting google-auth<3,>=1.6.3\n",
      "  Downloading google_auth-2.20.0-py2.py3-none-any.whl (181 kB)\n",
      "Requirement already satisfied: urllib3<2.0 in c:\\programdata\\anaconda3\\lib\\site-packages (from google-auth<3,>=1.6.3->tensorboard<2.13,>=2.12->tensorflow-intel==2.12.0->tensorflow) (1.26.9)\n",
      "Requirement already satisfied: pyasn1<0.5.0,>=0.4.6 in c:\\programdata\\anaconda3\\lib\\site-packages (from pyasn1-modules>=0.2.1->google-auth<3,>=1.6.3->tensorboard<2.13,>=2.12->tensorflow-intel==2.12.0->tensorflow) (0.4.8)\n",
      "Requirement already satisfied: charset-normalizer~=2.0.0 in c:\\programdata\\anaconda3\\lib\\site-packages (from requests<3,>=2.21.0->tensorboard<2.13,>=2.12->tensorflow-intel==2.12.0->tensorflow) (2.0.4)\n",
      "Requirement already satisfied: idna<4,>=2.5 in c:\\programdata\\anaconda3\\lib\\site-packages (from requests<3,>=2.21.0->tensorboard<2.13,>=2.12->tensorflow-intel==2.12.0->tensorflow) (3.3)\n",
      "Requirement already satisfied: certifi>=2017.4.17 in c:\\programdata\\anaconda3\\lib\\site-packages (from requests<3,>=2.21.0->tensorboard<2.13,>=2.12->tensorflow-intel==2.12.0->tensorflow) (2021.10.8)\n",
      "Collecting oauthlib>=3.0.0\n",
      "  Downloading oauthlib-3.2.2-py3-none-any.whl (151 kB)\n",
      "Requirement already satisfied: pyparsing!=3.0.5,>=2.0.2 in c:\\programdata\\anaconda3\\lib\\site-packages (from packaging->tensorflow-intel==2.12.0->tensorflow) (3.0.4)\n",
      "Building wheels for collected packages: jax\n",
      "  Building wheel for jax (PEP 517): started\n",
      "  Building wheel for jax (PEP 517): finished with status 'done'\n",
      "  Created wheel for jax: filename=jax-0.4.12-py3-none-any.whl size=1498463 sha256=0b88847155051ac10437722d100d6bd0fc6f9b217e2654dda001adb6ec06b5e6\n",
      "  Stored in directory: c:\\users\\инна\\appdata\\local\\pip\\cache\\wheels\\ca\\6c\\0b\\dab434867ee492673dd15dbf9f6cce85781b555432a92bfb10\n",
      "Successfully built jax\n",
      "Installing collected packages: oauthlib, requests-oauthlib, numpy, google-auth, tensorboard-data-server, protobuf, ml-dtypes, grpcio, google-auth-oauthlib, absl-py, termcolor, tensorflow-io-gcs-filesystem, tensorflow-estimator, tensorboard, libclang, jax, google-pasta, gast, flatbuffers, astunparse, tensorflow-intel, tensorflow\n",
      "Successfully installed absl-py-1.4.0 astunparse-1.6.3 flatbuffers-23.5.26 gast-0.4.0 google-auth-2.20.0 google-auth-oauthlib-1.0.0 google-pasta-0.2.0 grpcio-1.54.2 jax-0.4.12 libclang-16.0.0 ml-dtypes-0.2.0 numpy-1.22.4 oauthlib-3.2.2 protobuf-4.23.3 requests-oauthlib-1.3.1 tensorboard-2.12.3 tensorboard-data-server-0.7.1 tensorflow-2.12.0 tensorflow-estimator-2.12.0 tensorflow-intel-2.12.0 tensorflow-io-gcs-filesystem-0.31.0 termcolor-2.3.0\n"
     ]
    }
   ],
   "source": [
    "!pip install tensorflow"
   ]
  },
  {
   "cell_type": "code",
   "execution_count": 5,
   "id": "db6d1710",
   "metadata": {},
   "outputs": [],
   "source": [
    "from keras.datasets import fashion_mnist\n",
    "from keras.utils.vis_utils import plot_model\n",
    "from keras.layers import Dense\n",
    "from keras.models import Sequential\n",
    "from keras.utils.np_utils import to_categorical\n",
    "from keras.optimizers import SGD\n",
    "from keras.optimizers import RMSprop\n",
    "from keras.optimizers import Adam\n",
    "from sklearn.metrics import confusion_matrix\n",
    "import numpy as np\n",
    "import pandas as pd\n",
    "import matplotlib.pyplot as plt\n",
    "import seaborn as sn\n",
    "import tensorflow as tf\n",
    "import itertools\n",
    "\n",
    "%matplotlib inline"
   ]
  },
  {
   "cell_type": "code",
   "execution_count": 6,
   "id": "8ae971a1",
   "metadata": {},
   "outputs": [],
   "source": [
    "tf.random.set_seed(1)"
   ]
  },
  {
   "cell_type": "code",
   "execution_count": 7,
   "id": "80b29563",
   "metadata": {},
   "outputs": [
    {
     "name": "stdout",
     "output_type": "stream",
     "text": [
      "Downloading data from https://storage.googleapis.com/tensorflow/tf-keras-datasets/train-labels-idx1-ubyte.gz\n",
      "29515/29515 [==============================] - 0s 1us/step\n",
      "Downloading data from https://storage.googleapis.com/tensorflow/tf-keras-datasets/train-images-idx3-ubyte.gz\n",
      "26421880/26421880 [==============================] - 1s 0us/step\n",
      "Downloading data from https://storage.googleapis.com/tensorflow/tf-keras-datasets/t10k-labels-idx1-ubyte.gz\n",
      "5148/5148 [==============================] - 0s 0s/step\n",
      "Downloading data from https://storage.googleapis.com/tensorflow/tf-keras-datasets/t10k-images-idx3-ubyte.gz\n",
      "4422102/4422102 [==============================] - 0s 0us/step\n",
      "(60000, 28, 28) (10000, 28, 28)\n",
      "(60000,)\n"
     ]
    }
   ],
   "source": [
    "(X_train, y_train_labels), (X_test, y_test_labels) = fashion_mnist.load_data()\n",
    "print(X_train.shape, X_test.shape)\n",
    "print(y_train_labels.shape)"
   ]
  },
  {
   "cell_type": "code",
   "execution_count": 8,
   "id": "db9cdfd2",
   "metadata": {},
   "outputs": [
    {
     "name": "stdout",
     "output_type": "stream",
     "text": [
      "Label is 0\n"
     ]
    },
    {
     "data": {
      "image/png": "[encoded data removed]",
      "text/plain": [
       "<Figure size 432x288 with 1 Axes>"
      ]
     },
     "metadata": {
      "needs_background": "light"
     },
     "output_type": "display_data"
    }
   ],
   "source": [
    "ind = np.random.randint(0, X_train.shape[0])\n",
    "plt.imshow(X_train[ind], cmap='gray')\n",
    "print(f'Label is {y_train_labels[ind]}')"
   ]
  },
  {
   "cell_type": "markdown",
   "id": "da31e7a3",
   "metadata": {},
   "source": [
    "Дано: коллекция из 60 000 полутоновых изображений 28х28 серого цвета. Всего 10 категорий (кластеров) товаров, а также тестовыйая колекция из 10 000 изображений.<br>\n",
    "Классовые метки:<br>\n",
    "   * 0 - футболка<br>\n",
    "   * 1 - Брюки<br>\n",
    "   * 2 - Пуловер<br>\n",
    "   * 3 - Платье<br>\n",
    "   * 4 - Пальто<br>\n",
    "   * 5 - Сандалия<br>\n",
    "   * 6 - Рубашка<br>\n",
    "   * 7 - Кроссовок<br>\n",
    "   * 8 - Сумка<br>\n",
    "   * 9 - Ботинок"
   ]
  },
  {
   "cell_type": "markdown",
   "id": "f5592b90",
   "metadata": {},
   "source": [
    "Конвертируем значения пикселей из вида от 0 до 255 в набор значений от 0 до 1."
   ]
  },
  {
   "cell_type": "code",
   "execution_count": 9,
   "id": "86158c36",
   "metadata": {},
   "outputs": [
    {
     "data": {
      "text/plain": [
       "(0, 255)"
      ]
     },
     "execution_count": 9,
     "metadata": {},
     "output_type": "execute_result"
    }
   ],
   "source": [
    "X_train.min(), X_train.max()"
   ]
  },
  {
   "cell_type": "code",
   "execution_count": 10,
   "id": "cb694849",
   "metadata": {},
   "outputs": [
    {
     "data": {
      "text/plain": [
       "(0.0, 1.0)"
      ]
     },
     "execution_count": 10,
     "metadata": {},
     "output_type": "execute_result"
    }
   ],
   "source": [
    "# Нормирование данных\n",
    "\n",
    "X_train = X_train / 255.0\n",
    "X_test = X_test / 255.0\n",
    "X_train.min(), X_train.max()"
   ]
  },
  {
   "cell_type": "code",
   "execution_count": 11,
   "id": "faa2da50",
   "metadata": {},
   "outputs": [
    {
     "data": {
      "text/plain": [
       "((60000, 784), (10000, 784))"
      ]
     },
     "execution_count": 11,
     "metadata": {},
     "output_type": "execute_result"
    }
   ],
   "source": [
    "# Вытягивание признаков в массив одномерных векторов\n",
    "X_train = X_train.reshape((-1, 28 * 28))\n",
    "X_test = X_test.reshape((-1, 28 * 28))\n",
    "\n",
    "X_train.shape, X_test.shape"
   ]
  },
  {
   "cell_type": "markdown",
   "id": "011afff2",
   "metadata": {},
   "source": [
    "Передача данных для обучения нейросети"
   ]
  },
  {
   "cell_type": "code",
   "execution_count": 12,
   "id": "208887be",
   "metadata": {},
   "outputs": [
    {
     "data": {
      "text/plain": [
       "array([9, 0, 0, 3, 0], dtype=uint8)"
      ]
     },
     "execution_count": 12,
     "metadata": {},
     "output_type": "execute_result"
    }
   ],
   "source": [
    "y_train_labels[:5]"
   ]
  },
  {
   "cell_type": "code",
   "execution_count": 13,
   "id": "616bc113",
   "metadata": {},
   "outputs": [
    {
     "data": {
      "text/plain": [
       "array([[0., 0., 0., 0., 0., 0., 0., 0., 0., 1.],\n",
       "       [1., 0., 0., 0., 0., 0., 0., 0., 0., 0.],\n",
       "       [1., 0., 0., 0., 0., 0., 0., 0., 0., 0.],\n",
       "       [0., 0., 0., 1., 0., 0., 0., 0., 0., 0.],\n",
       "       [1., 0., 0., 0., 0., 0., 0., 0., 0., 0.]], dtype=float32)"
      ]
     },
     "execution_count": 13,
     "metadata": {},
     "output_type": "execute_result"
    }
   ],
   "source": [
    "y_train = to_categorical(y_train_labels)\n",
    "y_test = to_categorical(y_test_labels)\n",
    "\n",
    "y_train[:5]"
   ]
  },
  {
   "cell_type": "markdown",
   "id": "56354309",
   "metadata": {},
   "source": [
    "### Подбор количества нейронов для двухслойной нейронной сети\n",
    "\n",
    "Проверка качества в зависимости от числа нейронов в слое (для 2-х слойной сети)."
   ]
  },
  {
   "cell_type": "code",
   "execution_count": 14,
   "id": "981176de",
   "metadata": {},
   "outputs": [
    {
     "name": "stdout",
     "output_type": "stream",
     "text": [
      "Model: \"sequential\"\n",
      "_________________________________________________________________\n",
      " Layer (type)                Output Shape              Param #   \n",
      "=================================================================\n",
      " dense (Dense)               (None, 98)                76930     \n",
      "                                                                 \n",
      " dense_1 (Dense)             (None, 1)                 99        \n",
      "                                                                 \n",
      " dense_2 (Dense)             (None, 10)                20        \n",
      "                                                                 \n",
      "=================================================================\n",
      "Total params: 77,049\n",
      "Trainable params: 77,049\n",
      "Non-trainable params: 0\n",
      "_________________________________________________________________\n",
      "Epoch 1/7\n",
      "938/938 [==============================] - 7s 6ms/step - loss: 2.1144 - accuracy: 0.1617 - val_loss: 2.0304 - val_accuracy: 0.1782\n",
      "Epoch 2/7\n",
      "938/938 [==============================] - 5s 5ms/step - loss: 1.9834 - accuracy: 0.2110 - val_loss: 1.9527 - val_accuracy: 0.2082\n",
      "Epoch 3/7\n",
      "938/938 [==============================] - 5s 5ms/step - loss: 1.9201 - accuracy: 0.2375 - val_loss: 1.9015 - val_accuracy: 0.2532\n",
      "Epoch 4/7\n",
      "938/938 [==============================] - 5s 5ms/step - loss: 1.8727 - accuracy: 0.2587 - val_loss: 1.8630 - val_accuracy: 0.2733\n",
      "Epoch 5/7\n",
      "938/938 [==============================] - 5s 5ms/step - loss: 1.8297 - accuracy: 0.2839 - val_loss: 1.8134 - val_accuracy: 0.2967\n",
      "Epoch 6/7\n",
      "938/938 [==============================] - 5s 5ms/step - loss: 1.7875 - accuracy: 0.3113 - val_loss: 1.7739 - val_accuracy: 0.3267\n",
      "Epoch 7/7\n",
      "938/938 [==============================] - 5s 5ms/step - loss: 1.7463 - accuracy: 0.3339 - val_loss: 1.7369 - val_accuracy: 0.3405\n",
      "938/938 [==============================] - 4s 4ms/step - loss: 1.7235 - accuracy: 0.3391\n",
      "157/157 [==============================] - 1s 4ms/step - loss: 1.7369 - accuracy: 0.3405\n",
      "Model: \"sequential_1\"\n",
      "_________________________________________________________________\n",
      " Layer (type)                Output Shape              Param #   \n",
      "=================================================================\n",
      " dense_3 (Dense)             (None, 98)                76930     \n",
      "                                                                 \n",
      " dense_4 (Dense)             (None, 2)                 198       \n",
      "                                                                 \n",
      " dense_5 (Dense)             (None, 10)                30        \n",
      "                                                                 \n",
      "=================================================================\n",
      "Total params: 77,158\n",
      "Trainable params: 77,158\n",
      "Non-trainable params: 0\n",
      "_________________________________________________________________\n",
      "Epoch 1/7\n",
      "938/938 [==============================] - 6s 6ms/step - loss: 1.7568 - accuracy: 0.3292 - val_loss: 1.4930 - val_accuracy: 0.3940\n",
      "Epoch 2/7\n",
      "938/938 [==============================] - 5s 5ms/step - loss: 1.3689 - accuracy: 0.4366 - val_loss: 1.2722 - val_accuracy: 0.5034\n",
      "Epoch 3/7\n",
      "938/938 [==============================] - 5s 5ms/step - loss: 1.1793 - accuracy: 0.5378 - val_loss: 1.1323 - val_accuracy: 0.5497\n",
      "Epoch 4/7\n",
      "938/938 [==============================] - 5s 5ms/step - loss: 1.0875 - accuracy: 0.5678 - val_loss: 1.0801 - val_accuracy: 0.5851\n",
      "Epoch 5/7\n",
      "938/938 [==============================] - 5s 5ms/step - loss: 1.0381 - accuracy: 0.5859 - val_loss: 1.0394 - val_accuracy: 0.5827\n",
      "Epoch 6/7\n",
      "938/938 [==============================] - 5s 5ms/step - loss: 1.0040 - accuracy: 0.5980 - val_loss: 1.0052 - val_accuracy: 0.6053\n",
      "Epoch 7/7\n",
      "938/938 [==============================] - 5s 5ms/step - loss: 0.9779 - accuracy: 0.6105 - val_loss: 0.9880 - val_accuracy: 0.6155\n",
      "938/938 [==============================] - 4s 4ms/step - loss: 0.9691 - accuracy: 0.6217\n",
      "157/157 [==============================] - 1s 4ms/step - loss: 0.9880 - accuracy: 0.6155\n",
      "Model: \"sequential_2\"\n",
      "_________________________________________________________________\n",
      " Layer (type)                Output Shape              Param #   \n",
      "=================================================================\n",
      " dense_6 (Dense)             (None, 98)                76930     \n",
      "                                                                 \n",
      " dense_7 (Dense)             (None, 4)                 396       \n",
      "                                                                 \n",
      " dense_8 (Dense)             (None, 10)                50        \n",
      "                                                                 \n",
      "=================================================================\n",
      "Total params: 77,376\n",
      "Trainable params: 77,376\n",
      "Non-trainable params: 0\n",
      "_________________________________________________________________\n",
      "Epoch 1/7\n",
      "938/938 [==============================] - 6s 6ms/step - loss: 1.3438 - accuracy: 0.5615 - val_loss: 0.8423 - val_accuracy: 0.6946\n",
      "Epoch 2/7\n",
      "938/938 [==============================] - 5s 5ms/step - loss: 0.7413 - accuracy: 0.7278 - val_loss: 0.7066 - val_accuracy: 0.7517\n",
      "Epoch 3/7\n",
      "938/938 [==============================] - 5s 5ms/step - loss: 0.6517 - accuracy: 0.7657 - val_loss: 0.6619 - val_accuracy: 0.7613\n",
      "Epoch 4/7\n",
      "938/938 [==============================] - 5s 5ms/step - loss: 0.6021 - accuracy: 0.7851 - val_loss: 0.6130 - val_accuracy: 0.7851\n",
      "Epoch 5/7\n",
      "938/938 [==============================] - 5s 5ms/step - loss: 0.5680 - accuracy: 0.7980 - val_loss: 0.5808 - val_accuracy: 0.7935\n",
      "Epoch 6/7\n",
      "938/938 [==============================] - 5s 5ms/step - loss: 0.5435 - accuracy: 0.8085 - val_loss: 0.5780 - val_accuracy: 0.7957\n",
      "Epoch 7/7\n",
      "938/938 [==============================] - 5s 5ms/step - loss: 0.5214 - accuracy: 0.8178 - val_loss: 0.5528 - val_accuracy: 0.8061\n",
      "938/938 [==============================] - 4s 4ms/step - loss: 0.5144 - accuracy: 0.8185\n",
      "157/157 [==============================] - 1s 4ms/step - loss: 0.5528 - accuracy: 0.8061\n",
      "Model: \"sequential_3\"\n",
      "_________________________________________________________________\n",
      " Layer (type)                Output Shape              Param #   \n",
      "=================================================================\n",
      " dense_9 (Dense)             (None, 98)                76930     \n",
      "                                                                 \n",
      " dense_10 (Dense)            (None, 8)                 792       \n",
      "                                                                 \n",
      " dense_11 (Dense)            (None, 10)                90        \n",
      "                                                                 \n",
      "=================================================================\n",
      "Total params: 77,812\n",
      "Trainable params: 77,812\n",
      "Non-trainable params: 0\n",
      "_________________________________________________________________\n",
      "Epoch 1/7\n",
      "938/938 [==============================] - 6s 6ms/step - loss: 1.1072 - accuracy: 0.6122 - val_loss: 0.7363 - val_accuracy: 0.7393\n",
      "Epoch 2/7\n",
      "938/938 [==============================] - 5s 5ms/step - loss: 0.6261 - accuracy: 0.7855 - val_loss: 0.5875 - val_accuracy: 0.7947\n",
      "Epoch 3/7\n",
      "938/938 [==============================] - 5s 5ms/step - loss: 0.5411 - accuracy: 0.8133 - val_loss: 0.5826 - val_accuracy: 0.7938\n",
      "Epoch 4/7\n",
      "938/938 [==============================] - 5s 5ms/step - loss: 0.5030 - accuracy: 0.8247 - val_loss: 0.5200 - val_accuracy: 0.8167\n",
      "Epoch 5/7\n",
      "938/938 [==============================] - 5s 5ms/step - loss: 0.4781 - accuracy: 0.8324 - val_loss: 0.4912 - val_accuracy: 0.8286\n",
      "Epoch 6/7\n",
      "938/938 [==============================] - 5s 5ms/step - loss: 0.4600 - accuracy: 0.8386 - val_loss: 0.4971 - val_accuracy: 0.8253\n",
      "Epoch 7/7\n",
      "938/938 [==============================] - 5s 5ms/step - loss: 0.4448 - accuracy: 0.8446 - val_loss: 0.4821 - val_accuracy: 0.8293\n",
      "938/938 [==============================] - 4s 4ms/step - loss: 0.4433 - accuracy: 0.8431\n",
      "157/157 [==============================] - 1s 4ms/step - loss: 0.4821 - accuracy: 0.8293\n",
      "Model: \"sequential_4\"\n",
      "_________________________________________________________________\n",
      " Layer (type)                Output Shape              Param #   \n",
      "=================================================================\n",
      " dense_12 (Dense)            (None, 98)                76930     \n"
     ]
    },
    {
     "name": "stdout",
     "output_type": "stream",
     "text": [
      "                                                                 \n",
      " dense_13 (Dense)            (None, 16)                1584      \n",
      "                                                                 \n",
      " dense_14 (Dense)            (None, 10)                170       \n",
      "                                                                 \n",
      "=================================================================\n",
      "Total params: 78,684\n",
      "Trainable params: 78,684\n",
      "Non-trainable params: 0\n",
      "_________________________________________________________________\n",
      "Epoch 1/7\n",
      "938/938 [==============================] - 6s 6ms/step - loss: 0.9979 - accuracy: 0.6930 - val_loss: 0.6647 - val_accuracy: 0.7784\n",
      "Epoch 2/7\n",
      "938/938 [==============================] - 5s 5ms/step - loss: 0.5700 - accuracy: 0.8084 - val_loss: 0.5576 - val_accuracy: 0.8105\n",
      "Epoch 3/7\n",
      "938/938 [==============================] - 5s 5ms/step - loss: 0.5076 - accuracy: 0.8251 - val_loss: 0.5422 - val_accuracy: 0.8045\n",
      "Epoch 4/7\n",
      "938/938 [==============================] - 5s 5ms/step - loss: 0.4756 - accuracy: 0.8328 - val_loss: 0.5027 - val_accuracy: 0.8231\n",
      "Epoch 5/7\n",
      "938/938 [==============================] - 5s 5ms/step - loss: 0.4533 - accuracy: 0.8413 - val_loss: 0.4752 - val_accuracy: 0.8303\n",
      "Epoch 6/7\n",
      "938/938 [==============================] - 5s 5ms/step - loss: 0.4368 - accuracy: 0.8462 - val_loss: 0.4846 - val_accuracy: 0.8299\n",
      "Epoch 7/7\n",
      "938/938 [==============================] - 5s 5ms/step - loss: 0.4228 - accuracy: 0.8511 - val_loss: 0.4607 - val_accuracy: 0.8350\n",
      "938/938 [==============================] - 4s 4ms/step - loss: 0.4204 - accuracy: 0.8494\n",
      "157/157 [==============================] - 1s 4ms/step - loss: 0.4607 - accuracy: 0.8350\n",
      "Model: \"sequential_5\"\n",
      "_________________________________________________________________\n",
      " Layer (type)                Output Shape              Param #   \n",
      "=================================================================\n",
      " dense_15 (Dense)            (None, 98)                76930     \n",
      "                                                                 \n",
      " dense_16 (Dense)            (None, 32)                3168      \n",
      "                                                                 \n",
      " dense_17 (Dense)            (None, 10)                330       \n",
      "                                                                 \n",
      "=================================================================\n",
      "Total params: 80,428\n",
      "Trainable params: 80,428\n",
      "Non-trainable params: 0\n",
      "_________________________________________________________________\n",
      "Epoch 1/7\n",
      "938/938 [==============================] - 6s 6ms/step - loss: 0.9403 - accuracy: 0.6948 - val_loss: 0.6645 - val_accuracy: 0.7690\n",
      "Epoch 2/7\n",
      "938/938 [==============================] - 5s 5ms/step - loss: 0.5800 - accuracy: 0.8010 - val_loss: 0.5628 - val_accuracy: 0.8013\n",
      "Epoch 3/7\n",
      "938/938 [==============================] - 5s 5ms/step - loss: 0.5168 - accuracy: 0.8210 - val_loss: 0.5587 - val_accuracy: 0.8033\n",
      "Epoch 4/7\n",
      "938/938 [==============================] - 5s 5ms/step - loss: 0.4838 - accuracy: 0.8308 - val_loss: 0.5049 - val_accuracy: 0.8206\n",
      "Epoch 5/7\n",
      "938/938 [==============================] - 5s 5ms/step - loss: 0.4607 - accuracy: 0.8380 - val_loss: 0.4765 - val_accuracy: 0.8311\n",
      "Epoch 6/7\n",
      "938/938 [==============================] - 5s 5ms/step - loss: 0.4433 - accuracy: 0.8444 - val_loss: 0.4908 - val_accuracy: 0.8260\n",
      "Epoch 7/7\n",
      "938/938 [==============================] - 5s 5ms/step - loss: 0.4280 - accuracy: 0.8500 - val_loss: 0.4661 - val_accuracy: 0.8322\n",
      "938/938 [==============================] - 4s 4ms/step - loss: 0.4275 - accuracy: 0.8492\n",
      "157/157 [==============================] - 1s 4ms/step - loss: 0.4661 - accuracy: 0.8322\n",
      "Model: \"sequential_6\"\n",
      "_________________________________________________________________\n",
      " Layer (type)                Output Shape              Param #   \n",
      "=================================================================\n",
      " dense_18 (Dense)            (None, 98)                76930     \n",
      "                                                                 \n",
      " dense_19 (Dense)            (None, 64)                6336      \n",
      "                                                                 \n",
      " dense_20 (Dense)            (None, 10)                650       \n",
      "                                                                 \n",
      "=================================================================\n",
      "Total params: 83,916\n",
      "Trainable params: 83,916\n",
      "Non-trainable params: 0\n",
      "_________________________________________________________________\n",
      "Epoch 1/7\n",
      "938/938 [==============================] - 6s 6ms/step - loss: 0.9425 - accuracy: 0.7011 - val_loss: 0.6540 - val_accuracy: 0.7757\n",
      "Epoch 2/7\n",
      "938/938 [==============================] - 6s 6ms/step - loss: 0.5649 - accuracy: 0.8089 - val_loss: 0.5474 - val_accuracy: 0.8142\n",
      "Epoch 3/7\n",
      "938/938 [==============================] - 6s 6ms/step - loss: 0.5006 - accuracy: 0.8271 - val_loss: 0.5479 - val_accuracy: 0.8026\n",
      "Epoch 4/7\n",
      "938/938 [==============================] - 6s 6ms/step - loss: 0.4686 - accuracy: 0.8359 - val_loss: 0.4897 - val_accuracy: 0.8269\n",
      "Epoch 5/7\n",
      "938/938 [==============================] - 5s 6ms/step - loss: 0.4469 - accuracy: 0.8440 - val_loss: 0.4636 - val_accuracy: 0.8375\n",
      "Epoch 6/7\n",
      "938/938 [==============================] - 5s 5ms/step - loss: 0.4305 - accuracy: 0.8495 - val_loss: 0.4916 - val_accuracy: 0.8296\n",
      "Epoch 7/7\n",
      "938/938 [==============================] - 5s 5ms/step - loss: 0.4167 - accuracy: 0.8551 - val_loss: 0.4578 - val_accuracy: 0.8358\n",
      "938/938 [==============================] - 4s 4ms/step - loss: 0.4187 - accuracy: 0.8514\n",
      "157/157 [==============================] - 1s 4ms/step - loss: 0.4578 - accuracy: 0.8358\n",
      "Model: \"sequential_7\"\n",
      "_________________________________________________________________\n",
      " Layer (type)                Output Shape              Param #   \n",
      "=================================================================\n",
      " dense_21 (Dense)            (None, 98)                76930     \n",
      "                                                                 \n",
      " dense_22 (Dense)            (None, 128)               12672     \n",
      "                                                                 \n",
      " dense_23 (Dense)            (None, 10)                1290      \n",
      "                                                                 \n",
      "=================================================================\n",
      "Total params: 90,892\n",
      "Trainable params: 90,892\n",
      "Non-trainable params: 0\n",
      "_________________________________________________________________\n",
      "Epoch 1/7\n",
      "938/938 [==============================] - 7s 6ms/step - loss: 0.9083 - accuracy: 0.7050 - val_loss: 0.6565 - val_accuracy: 0.7708\n",
      "Epoch 2/7\n",
      "938/938 [==============================] - 5s 5ms/step - loss: 0.5719 - accuracy: 0.8061 - val_loss: 0.5551 - val_accuracy: 0.8054\n",
      "Epoch 3/7\n",
      "938/938 [==============================] - 5s 6ms/step - loss: 0.5073 - accuracy: 0.8247 - val_loss: 0.5393 - val_accuracy: 0.8066\n",
      "Epoch 4/7\n",
      "938/938 [==============================] - 5s 6ms/step - loss: 0.4750 - accuracy: 0.8352 - val_loss: 0.4951 - val_accuracy: 0.8258\n",
      "Epoch 5/7\n",
      "938/938 [==============================] - 5s 6ms/step - loss: 0.4533 - accuracy: 0.8418 - val_loss: 0.4701 - val_accuracy: 0.8343\n",
      "Epoch 6/7\n",
      "938/938 [==============================] - 5s 6ms/step - loss: 0.4370 - accuracy: 0.8478 - val_loss: 0.4818 - val_accuracy: 0.8329\n",
      "Epoch 7/7\n",
      "938/938 [==============================] - 5s 6ms/step - loss: 0.4231 - accuracy: 0.8528 - val_loss: 0.4614 - val_accuracy: 0.8342\n",
      "938/938 [==============================] - 4s 4ms/step - loss: 0.4232 - accuracy: 0.8495\n",
      "157/157 [==============================] - 1s 4ms/step - loss: 0.4614 - accuracy: 0.8342\n",
      "Model: \"sequential_8\"\n",
      "_________________________________________________________________\n",
      " Layer (type)                Output Shape              Param #   \n",
      "=================================================================\n",
      " dense_24 (Dense)            (None, 98)                76930     \n",
      "                                                                 \n",
      " dense_25 (Dense)            (None, 256)               25344     \n",
      "                                                                 \n",
      " dense_26 (Dense)            (None, 10)                2570      \n"
     ]
    },
    {
     "name": "stdout",
     "output_type": "stream",
     "text": [
      "                                                                 \n",
      "=================================================================\n",
      "Total params: 104,844\n",
      "Trainable params: 104,844\n",
      "Non-trainable params: 0\n",
      "_________________________________________________________________\n",
      "Epoch 1/7\n",
      "938/938 [==============================] - 7s 6ms/step - loss: 0.9601 - accuracy: 0.6987 - val_loss: 0.6665 - val_accuracy: 0.7659\n",
      "Epoch 2/7\n",
      "938/938 [==============================] - 6s 6ms/step - loss: 0.5744 - accuracy: 0.8055 - val_loss: 0.5545 - val_accuracy: 0.8071\n",
      "Epoch 3/7\n",
      "938/938 [==============================] - 6s 6ms/step - loss: 0.5078 - accuracy: 0.8247 - val_loss: 0.5572 - val_accuracy: 0.8009\n",
      "Epoch 4/7\n",
      "938/938 [==============================] - 6s 6ms/step - loss: 0.4746 - accuracy: 0.8345 - val_loss: 0.4987 - val_accuracy: 0.8235\n",
      "Epoch 5/7\n",
      "938/938 [==============================] - 6s 6ms/step - loss: 0.4511 - accuracy: 0.8420 - val_loss: 0.4722 - val_accuracy: 0.8317\n",
      "Epoch 6/7\n",
      "938/938 [==============================] - 6s 6ms/step - loss: 0.4339 - accuracy: 0.8480 - val_loss: 0.4822 - val_accuracy: 0.8305\n",
      "Epoch 7/7\n",
      "938/938 [==============================] - 6s 6ms/step - loss: 0.4195 - accuracy: 0.8534 - val_loss: 0.4544 - val_accuracy: 0.8357\n",
      "938/938 [==============================] - 4s 4ms/step - loss: 0.4157 - accuracy: 0.8536\n",
      "157/157 [==============================] - 1s 4ms/step - loss: 0.4544 - accuracy: 0.8357\n",
      "Model: \"sequential_9\"\n",
      "_________________________________________________________________\n",
      " Layer (type)                Output Shape              Param #   \n",
      "=================================================================\n",
      " dense_27 (Dense)            (None, 98)                76930     \n",
      "                                                                 \n",
      " dense_28 (Dense)            (None, 512)               50688     \n",
      "                                                                 \n",
      " dense_29 (Dense)            (None, 10)                5130      \n",
      "                                                                 \n",
      "=================================================================\n",
      "Total params: 132,748\n",
      "Trainable params: 132,748\n",
      "Non-trainable params: 0\n",
      "_________________________________________________________________\n",
      "Epoch 1/7\n",
      "938/938 [==============================] - 7s 7ms/step - loss: 0.9725 - accuracy: 0.6935 - val_loss: 0.6732 - val_accuracy: 0.7591\n",
      "Epoch 2/7\n",
      "938/938 [==============================] - 6s 6ms/step - loss: 0.5822 - accuracy: 0.8012 - val_loss: 0.5622 - val_accuracy: 0.8038\n",
      "Epoch 3/7\n",
      "938/938 [==============================] - 6s 7ms/step - loss: 0.5129 - accuracy: 0.8231 - val_loss: 0.5503 - val_accuracy: 0.8036\n",
      "Epoch 4/7\n",
      "938/938 [==============================] - 6s 6ms/step - loss: 0.4781 - accuracy: 0.8344 - val_loss: 0.5059 - val_accuracy: 0.8231\n",
      "Epoch 5/7\n",
      "938/938 [==============================] - 6s 7ms/step - loss: 0.4550 - accuracy: 0.8409 - val_loss: 0.4769 - val_accuracy: 0.8300\n",
      "Epoch 6/7\n",
      "938/938 [==============================] - 6s 7ms/step - loss: 0.4382 - accuracy: 0.8471 - val_loss: 0.4847 - val_accuracy: 0.8315\n",
      "Epoch 7/7\n",
      "938/938 [==============================] - 6s 6ms/step - loss: 0.4237 - accuracy: 0.8514 - val_loss: 0.4673 - val_accuracy: 0.8323\n",
      "938/938 [==============================] - 4s 4ms/step - loss: 0.4251 - accuracy: 0.8491\n",
      "157/157 [==============================] - 1s 4ms/step - loss: 0.4673 - accuracy: 0.8323\n",
      "CPU times: total: 16min 39s\n",
      "Wall time: 7min 12s\n"
     ]
    },
    {
     "data": {
      "text/html": [
       "<div>\n",
       "<style scoped>\n",
       "    .dataframe tbody tr th:only-of-type {\n",
       "        vertical-align: middle;\n",
       "    }\n",
       "\n",
       "    .dataframe tbody tr th {\n",
       "        vertical-align: top;\n",
       "    }\n",
       "\n",
       "    .dataframe thead th {\n",
       "        text-align: right;\n",
       "    }\n",
       "</style>\n",
       "<table border=\"1\" class=\"dataframe\">\n",
       "  <thead>\n",
       "    <tr style=\"text-align: right;\">\n",
       "      <th></th>\n",
       "      <th>n_num</th>\n",
       "      <th>train_loss</th>\n",
       "      <th>test_loss</th>\n",
       "      <th>train_metric</th>\n",
       "      <th>test_metric</th>\n",
       "    </tr>\n",
       "  </thead>\n",
       "  <tbody>\n",
       "    <tr>\n",
       "      <th>6</th>\n",
       "      <td>64</td>\n",
       "      <td>0.418702</td>\n",
       "      <td>0.457814</td>\n",
       "      <td>0.851383</td>\n",
       "      <td>0.8358</td>\n",
       "    </tr>\n",
       "    <tr>\n",
       "      <th>8</th>\n",
       "      <td>256</td>\n",
       "      <td>0.415714</td>\n",
       "      <td>0.454421</td>\n",
       "      <td>0.853617</td>\n",
       "      <td>0.8357</td>\n",
       "    </tr>\n",
       "    <tr>\n",
       "      <th>4</th>\n",
       "      <td>16</td>\n",
       "      <td>0.420418</td>\n",
       "      <td>0.460700</td>\n",
       "      <td>0.849433</td>\n",
       "      <td>0.8350</td>\n",
       "    </tr>\n",
       "    <tr>\n",
       "      <th>7</th>\n",
       "      <td>128</td>\n",
       "      <td>0.423226</td>\n",
       "      <td>0.461375</td>\n",
       "      <td>0.849483</td>\n",
       "      <td>0.8342</td>\n",
       "    </tr>\n",
       "    <tr>\n",
       "      <th>9</th>\n",
       "      <td>512</td>\n",
       "      <td>0.425076</td>\n",
       "      <td>0.467320</td>\n",
       "      <td>0.849083</td>\n",
       "      <td>0.8323</td>\n",
       "    </tr>\n",
       "    <tr>\n",
       "      <th>5</th>\n",
       "      <td>32</td>\n",
       "      <td>0.427529</td>\n",
       "      <td>0.466056</td>\n",
       "      <td>0.849150</td>\n",
       "      <td>0.8322</td>\n",
       "    </tr>\n",
       "    <tr>\n",
       "      <th>3</th>\n",
       "      <td>8</td>\n",
       "      <td>0.443281</td>\n",
       "      <td>0.482084</td>\n",
       "      <td>0.843067</td>\n",
       "      <td>0.8293</td>\n",
       "    </tr>\n",
       "    <tr>\n",
       "      <th>2</th>\n",
       "      <td>4</td>\n",
       "      <td>0.514434</td>\n",
       "      <td>0.552820</td>\n",
       "      <td>0.818533</td>\n",
       "      <td>0.8061</td>\n",
       "    </tr>\n",
       "    <tr>\n",
       "      <th>1</th>\n",
       "      <td>2</td>\n",
       "      <td>0.969149</td>\n",
       "      <td>0.988019</td>\n",
       "      <td>0.621717</td>\n",
       "      <td>0.6155</td>\n",
       "    </tr>\n",
       "    <tr>\n",
       "      <th>0</th>\n",
       "      <td>1</td>\n",
       "      <td>1.723529</td>\n",
       "      <td>1.736898</td>\n",
       "      <td>0.339133</td>\n",
       "      <td>0.3405</td>\n",
       "    </tr>\n",
       "  </tbody>\n",
       "</table>\n",
       "</div>"
      ],
      "text/plain": [
       "   n_num  train_loss  test_loss  train_metric  test_metric\n",
       "6     64    0.418702   0.457814      0.851383       0.8358\n",
       "8    256    0.415714   0.454421      0.853617       0.8357\n",
       "4     16    0.420418   0.460700      0.849433       0.8350\n",
       "7    128    0.423226   0.461375      0.849483       0.8342\n",
       "9    512    0.425076   0.467320      0.849083       0.8323\n",
       "5     32    0.427529   0.466056      0.849150       0.8322\n",
       "3      8    0.443281   0.482084      0.843067       0.8293\n",
       "2      4    0.514434   0.552820      0.818533       0.8061\n",
       "1      2    0.969149   0.988019      0.621717       0.6155\n",
       "0      1    1.723529   1.736898      0.339133       0.3405"
      ]
     },
     "execution_count": 14,
     "metadata": {},
     "output_type": "execute_result"
    }
   ],
   "source": [
    "%%time\n",
    "results_num = pd.DataFrame()\n",
    "n_nums = []\n",
    "train_losses = []\n",
    "test_losses = []\n",
    "train_metrics = []\n",
    "test_metrics = []\n",
    "\n",
    "\n",
    "for n_num in list(map(lambda x: 2**x, range(0,10))):\n",
    "    \n",
    "    n_nums.append(n_num)\n",
    "    \n",
    "    model = Sequential([\n",
    "        Dense(98, input_shape=(28 * 28,), activation='relu'),\n",
    "        Dense(n_num, activation='relu'),\n",
    "        Dense(10, activation='sigmoid')\n",
    "    ])\n",
    "\n",
    "    model.summary()\n",
    "    \n",
    "    # Компиляция модели\n",
    "    model.compile(loss='categorical_crossentropy', optimizer='SGD', metrics=['accuracy'])\n",
    "    \n",
    "    history = model.fit(X_train, y_train,\n",
    "                    epochs=7,\n",
    "                    batch_size=64,\n",
    "                    verbose=1,\n",
    "                    validation_data=(X_test, y_test)\n",
    "                    )\n",
    "    train_acc = history.history['accuracy']\n",
    "    val_acc = history.history['val_accuracy']\n",
    "    \n",
    "    train_loss, train_metric = model.evaluate(X_train, y_train, batch_size=64)\n",
    "    train_losses.append(train_loss)\n",
    "    train_metrics.append(train_metric)\n",
    "    test_loss, test_metric = model.evaluate(X_test, y_test, batch_size=64)\n",
    "    test_losses.append(test_loss)\n",
    "    test_metrics.append(test_metric)\n",
    "    \n",
    "    \n",
    "results_num['n_num'] = n_nums\n",
    "results_num['train_loss'] = train_losses\n",
    "results_num['test_loss'] = test_losses\n",
    "results_num['train_metric'] = train_metrics\n",
    "results_num['test_metric'] = test_metrics\n",
    "results_num.sort_values(by='test_metric', ascending=False)"
   ]
  },
  {
   "cell_type": "code",
   "execution_count": 15,
   "id": "e6da0a78",
   "metadata": {},
   "outputs": [
    {
     "data": {
      "image/png": "[encoded data removed]",
      "text/plain": [
       "<Figure size 1152x360 with 1 Axes>"
      ]
     },
     "metadata": {
      "needs_background": "light"
     },
     "output_type": "display_data"
    },
    {
     "data": {
      "image/png": "[encoded data removed]",
      "text/plain": [
       "<Figure size 1152x360 with 1 Axes>"
      ]
     },
     "metadata": {
      "needs_background": "light"
     },
     "output_type": "display_data"
    }
   ],
   "source": [
    "# Демонстрация полученных результатов\n",
    "# Диаграмма точности в зависимости от обучения\n",
    "plt.figure(figsize=(16, 5))\n",
    "plt.plot(results_num['n_num'],results_num['train_loss'], label='train')\n",
    "plt.plot(results_num['n_num'],results_num['test_loss'], label='test')\n",
    "plt.xlabel('Обучение')\n",
    "plt.ylabel('Ошибка')\n",
    "plt.show()\n",
    "\n",
    "plt.figure(figsize=(16, 5))\n",
    "plt.plot(results_num['n_num'],results_num['train_metric'], label='train')\n",
    "plt.plot(results_num['n_num'],results_num['test_metric'], label='test')\n",
    "plt.xlabel('Число нейронов скрытого слоя')\n",
    "plt.ylabel('Accuracy')\n",
    "plt.show()"
   ]
  },
  {
   "cell_type": "markdown",
   "id": "bc34955b",
   "metadata": {},
   "source": [
    "Лучшее качество на трейне получилось при 256 нейронах.<br> А на тесте при 64-х, но разница метрики в 0.0001 можно опустить.\n",
    "Тендениция обучения: сначала, при увеличении числа нейронов скрытого слоя, качество росло, затем, начиная с некоторого количества (примерно 32), качество стало уменьшаться."
   ]
  },
  {
   "cell_type": "markdown",
   "id": "99522d03",
   "metadata": {},
   "source": [
    "### Подбор количества слоёв\n",
    "\n",
    "Проверим качество в зависимости от числа слоев (2, 3, 5, 10) при близких размерах сети (близкое число тренируемых параметров)\n",
    "\n",
    "Уменьшим количество эпох до 5"
   ]
  },
  {
   "cell_type": "code",
   "execution_count": 16,
   "id": "fe1e04f6",
   "metadata": {},
   "outputs": [
    {
     "name": "stdout",
     "output_type": "stream",
     "text": [
      "Model: \"sequential_10\"\n",
      "_________________________________________________________________\n",
      " Layer (type)                Output Shape              Param #   \n",
      "=================================================================\n",
      " dense_30 (Dense)            (None, 64)                50240     \n",
      "                                                                 \n",
      " dense_31 (Dense)            (None, 256)               16640     \n",
      "                                                                 \n",
      " dense_32 (Dense)            (None, 10)                2570      \n",
      "                                                                 \n",
      "=================================================================\n",
      "Total params: 69,450\n",
      "Trainable params: 69,450\n",
      "Non-trainable params: 0\n",
      "_________________________________________________________________\n",
      "Epoch 1/5\n",
      "938/938 [==============================] - 7s 6ms/step - loss: 1.0025 - accuracy: 0.6766 - val_loss: 0.6845 - val_accuracy: 0.7582\n",
      "Epoch 2/5\n",
      "938/938 [==============================] - 5s 6ms/step - loss: 0.5927 - accuracy: 0.7979 - val_loss: 0.5687 - val_accuracy: 0.8045\n",
      "Epoch 3/5\n",
      "938/938 [==============================] - 5s 6ms/step - loss: 0.5201 - accuracy: 0.8209 - val_loss: 0.5624 - val_accuracy: 0.7983\n",
      "Epoch 4/5\n",
      "938/938 [==============================] - 5s 6ms/step - loss: 0.4846 - accuracy: 0.8320 - val_loss: 0.5073 - val_accuracy: 0.8223\n",
      "Epoch 5/5\n",
      "938/938 [==============================] - 5s 6ms/step - loss: 0.4609 - accuracy: 0.8399 - val_loss: 0.4830 - val_accuracy: 0.8299\n",
      "938/938 [==============================] - 4s 4ms/step - loss: 0.4468 - accuracy: 0.8447\n",
      "157/157 [==============================] - 1s 4ms/step - loss: 0.4830 - accuracy: 0.8299\n",
      "Model: \"sequential_11\"\n",
      "_________________________________________________________________\n",
      " Layer (type)                Output Shape              Param #   \n",
      "=================================================================\n",
      " dense_33 (Dense)            (None, 64)                50240     \n",
      "                                                                 \n",
      " dense_34 (Dense)            (None, 162)               10530     \n",
      "                                                                 \n",
      " dense_35 (Dense)            (None, 162)               26406     \n",
      "                                                                 \n",
      " dense_36 (Dense)            (None, 10)                1630      \n",
      "                                                                 \n",
      "=================================================================\n",
      "Total params: 88,806\n",
      "Trainable params: 88,806\n",
      "Non-trainable params: 0\n",
      "_________________________________________________________________\n",
      "Epoch 1/5\n",
      "938/938 [==============================] - 7s 7ms/step - loss: 1.0116 - accuracy: 0.6644 - val_loss: 0.6779 - val_accuracy: 0.7575\n",
      "Epoch 2/5\n",
      "938/938 [==============================] - 6s 6ms/step - loss: 0.5725 - accuracy: 0.8000 - val_loss: 0.5464 - val_accuracy: 0.8099\n",
      "Epoch 3/5\n",
      "938/938 [==============================] - 6s 6ms/step - loss: 0.5037 - accuracy: 0.8236 - val_loss: 0.5762 - val_accuracy: 0.7934\n",
      "Epoch 4/5\n",
      "938/938 [==============================] - 6s 6ms/step - loss: 0.4684 - accuracy: 0.8359 - val_loss: 0.4879 - val_accuracy: 0.8246\n",
      "Epoch 5/5\n",
      "938/938 [==============================] - 6s 6ms/step - loss: 0.4447 - accuracy: 0.8444 - val_loss: 0.4659 - val_accuracy: 0.8347\n",
      "938/938 [==============================] - 4s 4ms/step - loss: 0.4297 - accuracy: 0.8482\n",
      "157/157 [==============================] - 1s 4ms/step - loss: 0.4659 - accuracy: 0.8347\n",
      "Model: \"sequential_12\"\n",
      "_________________________________________________________________\n",
      " Layer (type)                Output Shape              Param #   \n",
      "=================================================================\n",
      " dense_37 (Dense)            (None, 64)                50240     \n",
      "                                                                 \n",
      " dense_38 (Dense)            (None, 101)               6565      \n",
      "                                                                 \n",
      " dense_39 (Dense)            (None, 101)               10302     \n",
      "                                                                 \n",
      " dense_40 (Dense)            (None, 101)               10302     \n",
      "                                                                 \n",
      " dense_41 (Dense)            (None, 101)               10302     \n",
      "                                                                 \n",
      " dense_42 (Dense)            (None, 10)                1020      \n",
      "                                                                 \n",
      "=================================================================\n",
      "Total params: 88,731\n",
      "Trainable params: 88,731\n",
      "Non-trainable params: 0\n",
      "_________________________________________________________________\n",
      "Epoch 1/5\n",
      "938/938 [==============================] - 8s 7ms/step - loss: 1.1640 - accuracy: 0.5957 - val_loss: 0.7522 - val_accuracy: 0.7238\n",
      "Epoch 2/5\n",
      "938/938 [==============================] - 6s 6ms/step - loss: 0.6045 - accuracy: 0.7860 - val_loss: 0.5738 - val_accuracy: 0.7994\n",
      "Epoch 3/5\n",
      "938/938 [==============================] - 6s 6ms/step - loss: 0.5128 - accuracy: 0.8184 - val_loss: 0.5778 - val_accuracy: 0.7904\n",
      "Epoch 4/5\n",
      "938/938 [==============================] - 6s 6ms/step - loss: 0.4706 - accuracy: 0.8338 - val_loss: 0.4890 - val_accuracy: 0.8204\n",
      "Epoch 5/5\n",
      "938/938 [==============================] - 6s 6ms/step - loss: 0.4421 - accuracy: 0.8414 - val_loss: 0.4668 - val_accuracy: 0.8327\n",
      "938/938 [==============================] - 4s 4ms/step - loss: 0.4297 - accuracy: 0.8454\n",
      "157/157 [==============================] - 1s 6ms/step - loss: 0.4668 - accuracy: 0.8327\n",
      "Model: \"sequential_13\"\n",
      "_________________________________________________________________\n",
      " Layer (type)                Output Shape              Param #   \n",
      "=================================================================\n",
      " dense_43 (Dense)            (None, 64)                50240     \n",
      "                                                                 \n",
      " dense_44 (Dense)            (None, 64)                4160      \n",
      "                                                                 \n",
      " dense_45 (Dense)            (None, 64)                4160      \n",
      "                                                                 \n",
      " dense_46 (Dense)            (None, 64)                4160      \n",
      "                                                                 \n",
      " dense_47 (Dense)            (None, 64)                4160      \n",
      "                                                                 \n",
      " dense_48 (Dense)            (None, 64)                4160      \n",
      "                                                                 \n",
      " dense_49 (Dense)            (None, 64)                4160      \n",
      "                                                                 \n",
      " dense_50 (Dense)            (None, 64)                4160      \n",
      "                                                                 \n",
      " dense_51 (Dense)            (None, 64)                4160      \n",
      "                                                                 \n",
      " dense_52 (Dense)            (None, 64)                4160      \n",
      "                                                                 \n",
      " dense_53 (Dense)            (None, 10)                650       \n",
      "                                                                 \n",
      "=================================================================\n",
      "Total params: 88,330\n",
      "Trainable params: 88,330\n",
      "Non-trainable params: 0\n",
      "_________________________________________________________________\n",
      "Epoch 1/5\n",
      "938/938 [==============================] - 10s 9ms/step - loss: 1.7629 - accuracy: 0.3419 - val_loss: 1.0605 - val_accuracy: 0.5621\n",
      "Epoch 2/5\n",
      "938/938 [==============================] - 7s 8ms/step - loss: 0.7750 - accuracy: 0.7020 - val_loss: 0.7346 - val_accuracy: 0.7193\n",
      "Epoch 3/5\n",
      "938/938 [==============================] - 7s 8ms/step - loss: 0.6272 - accuracy: 0.7675 - val_loss: 0.6436 - val_accuracy: 0.7584\n",
      "Epoch 4/5\n",
      "938/938 [==============================] - 7s 8ms/step - loss: 0.5560 - accuracy: 0.7961 - val_loss: 0.5696 - val_accuracy: 0.7903\n",
      "Epoch 5/5\n",
      "938/938 [==============================] - 7s 8ms/step - loss: 0.5001 - accuracy: 0.8188 - val_loss: 0.5247 - val_accuracy: 0.8098\n"
     ]
    },
    {
     "name": "stdout",
     "output_type": "stream",
     "text": [
      "938/938 [==============================] - 5s 5ms/step - loss: 0.4816 - accuracy: 0.8263\n",
      "157/157 [==============================] - 1s 5ms/step - loss: 0.5247 - accuracy: 0.8098\n",
      "CPU times: total: 5min 43s\n",
      "Wall time: 2min 33s\n"
     ]
    },
    {
     "data": {
      "text/html": [
       "<div>\n",
       "<style scoped>\n",
       "    .dataframe tbody tr th:only-of-type {\n",
       "        vertical-align: middle;\n",
       "    }\n",
       "\n",
       "    .dataframe tbody tr th {\n",
       "        vertical-align: top;\n",
       "    }\n",
       "\n",
       "    .dataframe thead th {\n",
       "        text-align: right;\n",
       "    }\n",
       "</style>\n",
       "<table border=\"1\" class=\"dataframe\">\n",
       "  <thead>\n",
       "    <tr style=\"text-align: right;\">\n",
       "      <th></th>\n",
       "      <th>n_layer</th>\n",
       "      <th>n_num</th>\n",
       "      <th>n_par</th>\n",
       "      <th>train_loss</th>\n",
       "      <th>test_loss</th>\n",
       "      <th>train_metric</th>\n",
       "      <th>test_metric</th>\n",
       "    </tr>\n",
       "  </thead>\n",
       "  <tbody>\n",
       "    <tr>\n",
       "      <th>1</th>\n",
       "      <td>3</td>\n",
       "      <td>162</td>\n",
       "      <td>88806</td>\n",
       "      <td>0.429705</td>\n",
       "      <td>0.465926</td>\n",
       "      <td>0.848217</td>\n",
       "      <td>0.8347</td>\n",
       "    </tr>\n",
       "    <tr>\n",
       "      <th>2</th>\n",
       "      <td>5</td>\n",
       "      <td>101</td>\n",
       "      <td>88731</td>\n",
       "      <td>0.429714</td>\n",
       "      <td>0.466799</td>\n",
       "      <td>0.845417</td>\n",
       "      <td>0.8327</td>\n",
       "    </tr>\n",
       "    <tr>\n",
       "      <th>0</th>\n",
       "      <td>2</td>\n",
       "      <td>256</td>\n",
       "      <td>69450</td>\n",
       "      <td>0.446776</td>\n",
       "      <td>0.482975</td>\n",
       "      <td>0.844733</td>\n",
       "      <td>0.8299</td>\n",
       "    </tr>\n",
       "    <tr>\n",
       "      <th>3</th>\n",
       "      <td>10</td>\n",
       "      <td>64</td>\n",
       "      <td>88330</td>\n",
       "      <td>0.481639</td>\n",
       "      <td>0.524703</td>\n",
       "      <td>0.826333</td>\n",
       "      <td>0.8098</td>\n",
       "    </tr>\n",
       "  </tbody>\n",
       "</table>\n",
       "</div>"
      ],
      "text/plain": [
       "   n_layer  n_num  n_par  train_loss  test_loss  train_metric  test_metric\n",
       "1        3    162  88806    0.429705   0.465926      0.848217       0.8347\n",
       "2        5    101  88731    0.429714   0.466799      0.845417       0.8327\n",
       "0        2    256  69450    0.446776   0.482975      0.844733       0.8299\n",
       "3       10     64  88330    0.481639   0.524703      0.826333       0.8098"
      ]
     },
     "execution_count": 16,
     "metadata": {},
     "output_type": "execute_result"
    }
   ],
   "source": [
    "%%time\n",
    "results_layers = pd.DataFrame()\n",
    "n_nums = [] # число нейронов скрытых слоев\n",
    "n_layers = [] # число скрытых слоев\n",
    "n_pars = [] # число тренируемых параметров\n",
    "train_losses = [] # ошибка на тренировочной выборке\n",
    "test_losses = [] # ошибка на тестовой выборке\n",
    "train_metrics = [] # accuracy на тренировочной выборке\n",
    "test_metrics = [] # accuracy на тестовой выборке\n",
    "\n",
    "# Базовый размер возьмем для двухслойной сети с 256 нейронами, и будем равняться на него\n",
    "# Подберём количество нейронов так, чтобы количество параметров было примерно одинаково\n",
    "k_dict = {2:256, 3:162, 5:101, 10:64}\n",
    "for n in [2, 3, 5, 10]:\n",
    "    \n",
    "    k = k_dict[n]\n",
    "    net_size = 64 * 785 + 65 * k + (n - 2) * (k + 1) * k + (k + 1) * 10\n",
    "    n_nums.append(k) \n",
    "    n_pars.append(net_size)\n",
    "    n_layers.append(n)\n",
    "    \n",
    "    model = Sequential()\n",
    "    model.add(Dense(64, input_shape=(28 * 28,), activation='relu'))\n",
    "    for i in range(n - 1):\n",
    "        model.add(Dense(k, activation='relu'))\n",
    "    model.add(Dense(10, activation='sigmoid'))\n",
    "\n",
    "    model.summary()\n",
    "    \n",
    "    # Компиляция модели\n",
    "    model.compile(loss='categorical_crossentropy', optimizer='SGD', metrics=['accuracy'])\n",
    "    \n",
    "    history = model.fit(X_train, y_train,\n",
    "                    epochs=5,\n",
    "                    batch_size=64,\n",
    "                    verbose=1,\n",
    "                    validation_data=(X_test, y_test)\n",
    "                    )\n",
    "    train_acc = history.history['accuracy']\n",
    "    val_acc = history.history['val_accuracy']\n",
    "    \n",
    "    train_loss, train_metric = model.evaluate(X_train, y_train, batch_size=64)\n",
    "    train_losses.append(train_loss)\n",
    "    train_metrics.append(train_metric)\n",
    "    test_loss, test_metric = model.evaluate(X_test, y_test, batch_size=64)\n",
    "    test_losses.append(test_loss)\n",
    "    test_metrics.append(test_metric)\n",
    "    \n",
    "    \n",
    "results_layers['n_layer'] = n_layers\n",
    "results_layers['n_num'] = n_nums\n",
    "results_layers['n_par'] = n_pars\n",
    "results_layers['train_loss'] = train_losses\n",
    "results_layers['test_loss'] = test_losses\n",
    "results_layers['train_metric'] = train_metrics\n",
    "results_layers['test_metric'] = test_metrics\n",
    "results_layers.sort_values(by='test_metric', ascending=False)"
   ]
  },
  {
   "cell_type": "code",
   "execution_count": 17,
   "id": "5db35c0c",
   "metadata": {},
   "outputs": [
    {
     "data": {
      "image/png": "[encoded data removed]",
      "text/plain": [
       "<Figure size 1152x360 with 1 Axes>"
      ]
     },
     "metadata": {
      "needs_background": "light"
     },
     "output_type": "display_data"
    },
    {
     "data": {
      "image/png": "[encoded data removed]",
      "text/plain": [
       "<Figure size 1152x360 with 1 Axes>"
      ]
     },
     "metadata": {
      "needs_background": "light"
     },
     "output_type": "display_data"
    }
   ],
   "source": [
    "# Демонстрация полученных результатов\n",
    "# Диаграмма точности в зависимости от обучения\n",
    "plt.figure(figsize=(16, 5))\n",
    "plt.plot(results_layers['n_layer'],results_layers['train_loss'], label='train')\n",
    "plt.plot(results_layers['n_layer'],results_layers['test_loss'], label='test')\n",
    "plt.xlabel('Обучение')\n",
    "plt.ylabel('Ошибка')\n",
    "plt.show()\n",
    "\n",
    "plt.figure(figsize=(16, 5))\n",
    "plt.plot(results_layers['n_layer'],results_layers['train_metric'], label='train')\n",
    "plt.plot(results_layers['n_layer'],results_layers['test_metric'], label='test')\n",
    "plt.xlabel('Число слоев')\n",
    "plt.ylabel('Accuracy')\n",
    "plt.show()"
   ]
  },
  {
   "cell_type": "markdown",
   "id": "f1e14ef0",
   "metadata": {},
   "source": [
    "Лучшее качество получилось на 3 слоях со 162 нейронами.<br>\n",
    "На 10 слоях качество самое низкое. Может быть это связано с тем, что количество нейронов скрытых слоев меньше необходимого уровня, чтобы сохранить общее количество тренируемых параметров."
   ]
  },
  {
   "cell_type": "markdown",
   "id": "d01cf141",
   "metadata": {},
   "source": [
    "### Сохранение модели и оптимизаторы\n",
    "\n",
    "Оптимизаторы: (SGD, Adam, RMSProp) для данной модели."
   ]
  },
  {
   "cell_type": "code",
   "execution_count": 18,
   "id": "e6a3e015",
   "metadata": {},
   "outputs": [
    {
     "name": "stdout",
     "output_type": "stream",
     "text": [
      "Оптимизатор: SGD\n",
      "Epoch 1/5\n",
      "938/938 [==============================] - 8s 7ms/step - loss: 1.0345 - accuracy: 0.6510 - val_loss: 0.6972 - val_accuracy: 0.7531\n",
      "Epoch 2/5\n",
      "938/938 [==============================] - 7s 7ms/step - loss: 0.5811 - accuracy: 0.7990 - val_loss: 0.5538 - val_accuracy: 0.8075\n",
      "Epoch 3/5\n",
      "938/938 [==============================] - 7s 7ms/step - loss: 0.5101 - accuracy: 0.8223 - val_loss: 0.6116 - val_accuracy: 0.7818\n",
      "Epoch 4/5\n",
      "938/938 [==============================] - 7s 7ms/step - loss: 0.4737 - accuracy: 0.8343 - val_loss: 0.4939 - val_accuracy: 0.8244\n",
      "Epoch 5/5\n",
      "938/938 [==============================] - 7s 7ms/step - loss: 0.4488 - accuracy: 0.8426 - val_loss: 0.4789 - val_accuracy: 0.8264\n",
      "157/157 [==============================] - 1s 5ms/step - loss: 0.4789 - accuracy: 0.8264\n",
      "Качество на тесте: 0.4789201319217682, 0.8263999819755554\n",
      "Оптимизатор: RMSprop\n",
      "Epoch 1/5\n",
      "938/938 [==============================] - 8s 7ms/step - loss: 0.5334 - accuracy: 0.8041 - val_loss: 0.5240 - val_accuracy: 0.8149\n",
      "Epoch 2/5\n",
      "938/938 [==============================] - 7s 7ms/step - loss: 0.3809 - accuracy: 0.8600 - val_loss: 0.4195 - val_accuracy: 0.8490\n",
      "Epoch 3/5\n",
      "938/938 [==============================] - 7s 7ms/step - loss: 0.3473 - accuracy: 0.8734 - val_loss: 0.4303 - val_accuracy: 0.8417\n",
      "Epoch 4/5\n",
      "938/938 [==============================] - 6s 7ms/step - loss: 0.3273 - accuracy: 0.8820 - val_loss: 0.3930 - val_accuracy: 0.8606\n",
      "Epoch 5/5\n",
      "938/938 [==============================] - 6s 7ms/step - loss: 0.3140 - accuracy: 0.8850 - val_loss: 0.3852 - val_accuracy: 0.8714\n",
      "157/157 [==============================] - 1s 5ms/step - loss: 0.3852 - accuracy: 0.8714\n",
      "Качество на тесте: 0.38522234559059143, 0.871399998664856\n",
      "Оптимизатор: Adam\n",
      "Epoch 1/5\n",
      "938/938 [==============================] - 7s 6ms/step - loss: 0.5184 - accuracy: 0.8154 - val_loss: 0.4658 - val_accuracy: 0.8283\n",
      "Epoch 2/5\n",
      "938/938 [==============================] - 6s 6ms/step - loss: 0.3732 - accuracy: 0.8630 - val_loss: 0.3885 - val_accuracy: 0.8635\n",
      "Epoch 3/5\n",
      "938/938 [==============================] - 6s 6ms/step - loss: 0.3371 - accuracy: 0.8761 - val_loss: 0.3720 - val_accuracy: 0.8671\n",
      "Epoch 4/5\n",
      "938/938 [==============================] - 6s 6ms/step - loss: 0.3161 - accuracy: 0.8827 - val_loss: 0.3602 - val_accuracy: 0.8689\n",
      "Epoch 5/5\n",
      "938/938 [==============================] - 6s 6ms/step - loss: 0.2977 - accuracy: 0.8888 - val_loss: 0.3469 - val_accuracy: 0.8765\n",
      "157/157 [==============================] - 1s 4ms/step - loss: 0.3469 - accuracy: 0.8765\n",
      "Качество на тесте: 0.34693923592567444, 0.8765000104904175\n"
     ]
    },
    {
     "data": {
      "image/png": "[encoded data removed]",
      "text/plain": [
       "<Figure size 1152x504 with 1 Axes>"
      ]
     },
     "metadata": {
      "needs_background": "light"
     },
     "output_type": "display_data"
    },
    {
     "name": "stdout",
     "output_type": "stream",
     "text": [
      "CPU times: total: 5min 29s\n",
      "Wall time: 2min 12s\n"
     ]
    }
   ],
   "source": [
    "%%time\n",
    "\n",
    "# создаем модель model\n",
    "model = Sequential([\n",
    "    Dense(64, activation='relu', input_shape=(28 * 28,)),\n",
    "    Dense(162, activation='relu'),\n",
    "    Dense(162, activation='relu'),\n",
    "    Dense(10, activation='sigmoid'),\n",
    "])\n",
    "\n",
    "# сохраняем ее веса (это начальная точка) model.save_weights('model.h5')\n",
    "model.save_weights('model_weights.h5')\n",
    "\n",
    "# будем сохранять модели в словарь\n",
    "models = {}\n",
    "\n",
    "plt.figure(figsize=(16, 7))\n",
    "colors = ['g', 'b', 'r']\n",
    "\n",
    "num_epochs = 5\n",
    "batch_size = 64\n",
    "\n",
    "# вектор для вывода результатов\n",
    "epoch = np.arange(num_epochs+1)\n",
    "\n",
    "# будем изменять оптимизаторы\n",
    "for i, i_optim in enumerate([SGD(),\n",
    "                             RMSprop(),\n",
    "                             Adam()]):\n",
    "    print(f'Оптимизатор: {i_optim.get_config()[\"name\"]}')\n",
    "    \n",
    "    # создаем рабочую модель  model_i, куда будем загружать эти веса (она должна быть идентичной структуры)\n",
    "    model_i = Sequential([\n",
    "        Dense(64, activation='relu', input_shape=(28 * 28,)),\n",
    "        Dense(162, activation='relu'),\n",
    "        Dense(162, activation='relu'),\n",
    "        Dense(10, activation='sigmoid'),\n",
    "    ])\n",
    "    \n",
    "    # загружаем веса model_i.load_weights('model.h5')\n",
    "    model_i.load_weights('model_weights.h5')\n",
    "    \n",
    "    # компилируем model_i с одним из оптимизаторов\n",
    "    model_i.compile(\n",
    "        optimizer=i_optim,\n",
    "        loss='categorical_crossentropy',\n",
    "        metrics=['accuracy'],\n",
    "        )\n",
    "    \n",
    "    # вычисляем ошибку для modeli без обучения\n",
    "    h0_train = model_i.evaluate(X_train, y_train, verbose=0)\n",
    "    h0_val = model_i.evaluate(X_test, y_test, verbose=0)\n",
    "\n",
    "    # проводим обучение модели \n",
    "    h = model_i.fit(X_train, y_train,\n",
    "                    epochs=num_epochs,\n",
    "                    batch_size=batch_size,\n",
    "                    validation_data=(X_test, y_test),\n",
    "                    verbose=1)\n",
    "    \n",
    "    # вычисляем ошибку для modeli после обучения\n",
    "    loss, metric = model_i.evaluate(X_test, y_test, batch_size=64)\n",
    "    print(f'Качество на тесте: {loss}, {metric}')\n",
    "    \n",
    "    # записываем обученную модель в словарь\n",
    "    models[i_optim.get_config()['name']] = model_i\n",
    "\n",
    "    \n",
    "    # картинки\n",
    "    '''\n",
    "    plt.figure(figsize=(16, 7))\n",
    "    plt.plot(epoch, np.log([h0_train[0]] + h.history['loss']),\n",
    "             '-', c=colors[i],\n",
    "             label=model_i.optimizer.get_config()['name'] + ' train')\n",
    "    plt.plot(epoch, np.log([h0_val[0]] + h.history['val_loss']),\n",
    "             '--', c=colors[i],\n",
    "             label=model_i.optimizer.get_config()['name'] + ' val')\n",
    "    '''\n",
    "    \n",
    "    plt.plot(epoch, ([h0_train[0]] + h.history['accuracy']),\n",
    "             '-', c=colors[i],\n",
    "             label=model_i.optimizer.get_config()['name'] + ' train')\n",
    "    plt.plot(epoch, ([h0_val[0]] + h.history['val_accuracy']),\n",
    "             '--', c=colors[i],\n",
    "             label=f'{model_i.optimizer.get_config()[\"name\"]} val {metric:.2f}')\n",
    "\n",
    "plt.legend()\n",
    "plt.title('Нейросети от оптимизатора accuracy')\n",
    "plt.xlabel('Epoch')\n",
    "plt.ylabel('Accuracy')\n",
    "plt.show()"
   ]
  },
  {
   "cell_type": "markdown",
   "id": "28c552f0",
   "metadata": {},
   "source": [
    "### Результаты\n",
    "\n",
    "Итоговое качество на тестовой выборке получилось 0.88 благодаря подбору оптимального количества скрытых слоев (2) и количества нейронов на них (162), а также выбору оптимизатора (Adam). \n",
    "\n",
    "Количество эпох установлено (5), время обучения (5min 29s), что не плохо для нашей сети с прогоном на трех избранных оптимизаторах. Оптимизатор Adam показал наилучший результат, чуть хуже выступил оптимизатор RMSprop, с результатом (0.8714), тут больше во внимание можно принимать размер ошибки, с разницей в 0.04. "
   ]
  },
  {
   "cell_type": "code",
   "execution_count": 19,
   "id": "c06000a6",
   "metadata": {},
   "outputs": [],
   "source": [
    "model_i = models['Adam']"
   ]
  },
  {
   "cell_type": "code",
   "execution_count": 20,
   "id": "6e21e584",
   "metadata": {},
   "outputs": [
    {
     "data": {
      "text/plain": [
       "{'name': 'Adam',\n",
       " 'learning_rate': 0.001,\n",
       " 'decay': 0.0,\n",
       " 'beta_1': 0.9,\n",
       " 'beta_2': 0.999,\n",
       " 'epsilon': 1e-07,\n",
       " 'amsgrad': False}"
      ]
     },
     "execution_count": 20,
     "metadata": {},
     "output_type": "execute_result"
    }
   ],
   "source": [
    "model_i.optimizer.get_config()"
   ]
  },
  {
   "cell_type": "code",
   "execution_count": 21,
   "id": "a8d2392f",
   "metadata": {},
   "outputs": [
    {
     "name": "stdout",
     "output_type": "stream",
     "text": [
      "1/1 [==============================] - 0s 262ms/step\n"
     ]
    },
    {
     "data": {
      "image/png": "[encoded data removed]",
      "text/plain": [
       "<Figure size 1080x360 with 5 Axes>"
      ]
     },
     "metadata": {
      "needs_background": "light"
     },
     "output_type": "display_data"
    }
   ],
   "source": [
    "N = 5\n",
    "y_pred = model_i.predict(X_test[:N, :])\n",
    "y_pred_class = np.argmax(y_pred, axis=1)\n",
    "plt.figure(figsize=(3 * N, 5))\n",
    "\n",
    "for i in range(N):\n",
    "  plt.subplot(1, N, i+1)\n",
    "  plt.imshow(X_test[i,:].reshape(28, 28))\n",
    "  #plt.xlabel(str(y_pred_class[i]))\n",
    "  plt.xlabel(str(y_test_labels[i]))\n",
    "plt.show() "
   ]
  },
  {
   "cell_type": "markdown",
   "id": "01981e0d",
   "metadata": {},
   "source": [
    "## Предсказание модели"
   ]
  },
  {
   "cell_type": "code",
   "execution_count": 22,
   "id": "75cc7596",
   "metadata": {},
   "outputs": [
    {
     "data": {
      "text/plain": [
       "array([9, 2, 1, 1, 6], dtype=int64)"
      ]
     },
     "execution_count": 22,
     "metadata": {},
     "output_type": "execute_result"
    }
   ],
   "source": [
    "y_pred_class"
   ]
  },
  {
   "cell_type": "code",
   "execution_count": 23,
   "id": "59dc297d",
   "metadata": {},
   "outputs": [
    {
     "name": "stdout",
     "output_type": "stream",
     "text": [
      "313/313 [==============================] - 1s 3ms/step\n"
     ]
    }
   ],
   "source": [
    "y_pred = model_i.predict(X_test)\n",
    "y_pred_class = np.argmax(y_pred, axis=1)"
   ]
  },
  {
   "cell_type": "markdown",
   "id": "9b8e379d",
   "metadata": {},
   "source": [
    "#### Рассмотрим матрицу ошибок "
   ]
  },
  {
   "cell_type": "code",
   "execution_count": 24,
   "id": "a911c4fe",
   "metadata": {},
   "outputs": [],
   "source": [
    "def plot_confusion_matrix(cm, classes,\n",
    "                          normalize=False,\n",
    "                          title='Confusion matrix',\n",
    "                          cmap=plt.cm.Blues):\n",
    "    \"\"\"\n",
    "    This function prints and plots the confusion matrix.\n",
    "    Normalization can be applied by setting `normalize=True`.\n",
    "    \"\"\"\n",
    "    plt.imshow(cm, interpolation='nearest', cmap=cmap)\n",
    "    plt.title(title)\n",
    "    plt.colorbar()\n",
    "    tick_marks = np.arange(len(classes))\n",
    "    plt.xticks(tick_marks, classes, rotation=45)\n",
    "    plt.yticks(tick_marks, classes)\n",
    "\n",
    "    if normalize:\n",
    "        cm = cm.astype('float') / cm.sum(axis=1)[:, np.newaxis]\n",
    "        print(\"Normalized confusion matrix\")\n",
    "    else:\n",
    "        print('Confusion matrix, without normalization')\n",
    "\n",
    "    #print(cm)\n",
    "\n",
    "    thresh = cm.max() / 2.\n",
    "    for i, j in itertools.product(range(cm.shape[0]), range(cm.shape[1])):\n",
    "        plt.text(j, i, cm[i, j],\n",
    "                 horizontalalignment=\"center\",\n",
    "                 color=\"white\" if cm[i, j] > thresh else \"black\")\n",
    "\n",
    "    plt.tight_layout()\n",
    "    plt.ylabel('True label')\n",
    "    plt.xlabel('Predicted label')"
   ]
  },
  {
   "cell_type": "code",
   "execution_count": 25,
   "id": "5de2c109",
   "metadata": {},
   "outputs": [
    {
     "name": "stdout",
     "output_type": "stream",
     "text": [
      "Confusion matrix, without normalization\n"
     ]
    },
    {
     "data": {
      "image/png": "[encoded data removed]",
      "text/plain": [
       "<Figure size 720x576 with 2 Axes>"
      ]
     },
     "metadata": {
      "needs_background": "light"
     },
     "output_type": "display_data"
    }
   ],
   "source": [
    "font = {'size' : 15}\n",
    "\n",
    "plt.rc('font', **font)\n",
    "\n",
    "cnf_matrix = confusion_matrix(y_test_labels, y_pred_class)\n",
    "plt.figure(figsize=(10, 8))\n",
    "plot_confusion_matrix(cnf_matrix, classes=['0', '1', '2', '3', '4', '5', '6', '7', '8', '9'],\n",
    "                      title='Confusion matrix', normalize=False)\n",
    "plt.show()"
   ]
  },
  {
   "cell_type": "markdown",
   "id": "5dc402c7",
   "metadata": {},
   "source": [
    "Модель часто путает 0 и 6 (футболки и рубашки) 2 и 4 (пуловер и пальто) 2 и 6 (пуловер и рубашки)"
   ]
  },
  {
   "cell_type": "markdown",
   "id": "7a59f717",
   "metadata": {},
   "source": [
    "Составим сводную таблицу метрик согласно матрице ошибок по предсказаниям модели"
   ]
  },
  {
   "cell_type": "code",
   "execution_count": 26,
   "id": "bfe96daa",
   "metadata": {},
   "outputs": [],
   "source": [
    "def get_precision_and_recall_from_confusion_matrix(label, cnf_matrix):\n",
    "    str_sum = 0\n",
    "    col_sum = 0\n",
    "    for i in range(len(cnf_matrix)):\n",
    "        str_sum += cnf_matrix[label][i]\n",
    "        col_sum += cnf_matrix[i][label]\n",
    "        \n",
    "    return cnf_matrix[label][label] / str_sum, cnf_matrix[label][label] / col_sum"
   ]
  },
  {
   "cell_type": "code",
   "execution_count": 27,
   "id": "a850b79e",
   "metadata": {},
   "outputs": [],
   "source": [
    "pr_rc_result = pd.DataFrame()\n",
    "precisions = []\n",
    "recalls = []\n",
    "labels = [0, 1, 2, 3, 4, 5, 6, 7, 8, 9]\n",
    "for l in labels:\n",
    "    p_r = get_precision_and_recall_from_confusion_matrix(l, cnf_matrix)\n",
    "    precisions.append(p_r[0])\n",
    "    recalls.append(p_r[1])\n",
    "pr_rc_result['label'] = labels\n",
    "pr_rc_result['precision'] = precisions\n",
    "pr_rc_result['recall'] = recalls"
   ]
  },
  {
   "cell_type": "code",
   "execution_count": 28,
   "id": "70a5b4c7",
   "metadata": {},
   "outputs": [
    {
     "data": {
      "text/html": [
       "<div>\n",
       "<style scoped>\n",
       "    .dataframe tbody tr th:only-of-type {\n",
       "        vertical-align: middle;\n",
       "    }\n",
       "\n",
       "    .dataframe tbody tr th {\n",
       "        vertical-align: top;\n",
       "    }\n",
       "\n",
       "    .dataframe thead th {\n",
       "        text-align: right;\n",
       "    }\n",
       "</style>\n",
       "<table border=\"1\" class=\"dataframe\">\n",
       "  <thead>\n",
       "    <tr style=\"text-align: right;\">\n",
       "      <th></th>\n",
       "      <th>label</th>\n",
       "      <th>precision</th>\n",
       "      <th>recall</th>\n",
       "    </tr>\n",
       "  </thead>\n",
       "  <tbody>\n",
       "    <tr>\n",
       "      <th>5</th>\n",
       "      <td>5</td>\n",
       "      <td>0.969</td>\n",
       "      <td>0.947214</td>\n",
       "    </tr>\n",
       "    <tr>\n",
       "      <th>1</th>\n",
       "      <td>1</td>\n",
       "      <td>0.967</td>\n",
       "      <td>0.986735</td>\n",
       "    </tr>\n",
       "    <tr>\n",
       "      <th>8</th>\n",
       "      <td>8</td>\n",
       "      <td>0.964</td>\n",
       "      <td>0.970796</td>\n",
       "    </tr>\n",
       "    <tr>\n",
       "      <th>9</th>\n",
       "      <td>9</td>\n",
       "      <td>0.957</td>\n",
       "      <td>0.952239</td>\n",
       "    </tr>\n",
       "    <tr>\n",
       "      <th>7</th>\n",
       "      <td>7</td>\n",
       "      <td>0.931</td>\n",
       "      <td>0.947101</td>\n",
       "    </tr>\n",
       "    <tr>\n",
       "      <th>3</th>\n",
       "      <td>3</td>\n",
       "      <td>0.875</td>\n",
       "      <td>0.888325</td>\n",
       "    </tr>\n",
       "    <tr>\n",
       "      <th>0</th>\n",
       "      <td>0</td>\n",
       "      <td>0.834</td>\n",
       "      <td>0.824111</td>\n",
       "    </tr>\n",
       "    <tr>\n",
       "      <th>4</th>\n",
       "      <td>4</td>\n",
       "      <td>0.807</td>\n",
       "      <td>0.774472</td>\n",
       "    </tr>\n",
       "    <tr>\n",
       "      <th>2</th>\n",
       "      <td>2</td>\n",
       "      <td>0.759</td>\n",
       "      <td>0.800633</td>\n",
       "    </tr>\n",
       "    <tr>\n",
       "      <th>6</th>\n",
       "      <td>6</td>\n",
       "      <td>0.702</td>\n",
       "      <td>0.682216</td>\n",
       "    </tr>\n",
       "  </tbody>\n",
       "</table>\n",
       "</div>"
      ],
      "text/plain": [
       "   label  precision    recall\n",
       "5      5      0.969  0.947214\n",
       "1      1      0.967  0.986735\n",
       "8      8      0.964  0.970796\n",
       "9      9      0.957  0.952239\n",
       "7      7      0.931  0.947101\n",
       "3      3      0.875  0.888325\n",
       "0      0      0.834  0.824111\n",
       "4      4      0.807  0.774472\n",
       "2      2      0.759  0.800633\n",
       "6      6      0.702  0.682216"
      ]
     },
     "execution_count": 28,
     "metadata": {},
     "output_type": "execute_result"
    }
   ],
   "source": [
    "pr_rc_result.sort_values(by='precision', ascending=False)"
   ]
  },
  {
   "cell_type": "markdown",
   "id": "cb1de474",
   "metadata": {},
   "source": [
    "Согласно таблице точности, лучше всего мы распознаем (1) - брюки и (8) - сумки, а хуже всего (6) - рубашки"
   ]
  },
  {
   "cell_type": "code",
   "execution_count": 29,
   "id": "a97a0cf7",
   "metadata": {},
   "outputs": [
    {
     "data": {
      "text/html": [
       "<div>\n",
       "<style scoped>\n",
       "    .dataframe tbody tr th:only-of-type {\n",
       "        vertical-align: middle;\n",
       "    }\n",
       "\n",
       "    .dataframe tbody tr th {\n",
       "        vertical-align: top;\n",
       "    }\n",
       "\n",
       "    .dataframe thead th {\n",
       "        text-align: right;\n",
       "    }\n",
       "</style>\n",
       "<table border=\"1\" class=\"dataframe\">\n",
       "  <thead>\n",
       "    <tr style=\"text-align: right;\">\n",
       "      <th></th>\n",
       "      <th>label</th>\n",
       "      <th>precision</th>\n",
       "      <th>recall</th>\n",
       "    </tr>\n",
       "  </thead>\n",
       "  <tbody>\n",
       "    <tr>\n",
       "      <th>1</th>\n",
       "      <td>1</td>\n",
       "      <td>0.967</td>\n",
       "      <td>0.986735</td>\n",
       "    </tr>\n",
       "    <tr>\n",
       "      <th>8</th>\n",
       "      <td>8</td>\n",
       "      <td>0.964</td>\n",
       "      <td>0.970796</td>\n",
       "    </tr>\n",
       "    <tr>\n",
       "      <th>9</th>\n",
       "      <td>9</td>\n",
       "      <td>0.957</td>\n",
       "      <td>0.952239</td>\n",
       "    </tr>\n",
       "    <tr>\n",
       "      <th>5</th>\n",
       "      <td>5</td>\n",
       "      <td>0.969</td>\n",
       "      <td>0.947214</td>\n",
       "    </tr>\n",
       "    <tr>\n",
       "      <th>7</th>\n",
       "      <td>7</td>\n",
       "      <td>0.931</td>\n",
       "      <td>0.947101</td>\n",
       "    </tr>\n",
       "    <tr>\n",
       "      <th>3</th>\n",
       "      <td>3</td>\n",
       "      <td>0.875</td>\n",
       "      <td>0.888325</td>\n",
       "    </tr>\n",
       "    <tr>\n",
       "      <th>0</th>\n",
       "      <td>0</td>\n",
       "      <td>0.834</td>\n",
       "      <td>0.824111</td>\n",
       "    </tr>\n",
       "    <tr>\n",
       "      <th>2</th>\n",
       "      <td>2</td>\n",
       "      <td>0.759</td>\n",
       "      <td>0.800633</td>\n",
       "    </tr>\n",
       "    <tr>\n",
       "      <th>4</th>\n",
       "      <td>4</td>\n",
       "      <td>0.807</td>\n",
       "      <td>0.774472</td>\n",
       "    </tr>\n",
       "    <tr>\n",
       "      <th>6</th>\n",
       "      <td>6</td>\n",
       "      <td>0.702</td>\n",
       "      <td>0.682216</td>\n",
       "    </tr>\n",
       "  </tbody>\n",
       "</table>\n",
       "</div>"
      ],
      "text/plain": [
       "   label  precision    recall\n",
       "1      1      0.967  0.986735\n",
       "8      8      0.964  0.970796\n",
       "9      9      0.957  0.952239\n",
       "5      5      0.969  0.947214\n",
       "7      7      0.931  0.947101\n",
       "3      3      0.875  0.888325\n",
       "0      0      0.834  0.824111\n",
       "2      2      0.759  0.800633\n",
       "4      4      0.807  0.774472\n",
       "6      6      0.702  0.682216"
      ]
     },
     "execution_count": 29,
     "metadata": {},
     "output_type": "execute_result"
    }
   ],
   "source": [
    "pr_rc_result.sort_values(by='recall', ascending=False)"
   ]
  },
  {
   "cell_type": "markdown",
   "id": "8763da53",
   "metadata": {},
   "source": [
    "Согласно таблице качества, лучше всего мы распознаем (1) - брюки и (8) - сумки, а хуже всего (6) - рубашки"
   ]
  },
  {
   "cell_type": "code",
   "execution_count": 36,
   "id": "1a6026a3",
   "metadata": {},
   "outputs": [],
   "source": [
    "d = {0: 'Футболка',\n",
    "     1: 'Брюки',\n",
    "     2: 'Пуловер',\n",
    "     3: 'Платье',\n",
    "     4: 'Пальто',\n",
    "     5: 'Сандалия',\n",
    "     6: 'Рубашка',\n",
    "     7: 'Кроссовок',\n",
    "     8: 'Сумка',\n",
    "     9: 'Ботинок'}\n",
    "\n",
    "ind = []\n",
    "for i in range(10):\n",
    "    ind.append(np.where(y_test_labels == i)[0][0])"
   ]
  },
  {
   "cell_type": "code",
   "execution_count": 37,
   "id": "a3b4c639",
   "metadata": {},
   "outputs": [
    {
     "data": {
      "image/png": "[encoded data removed]",
      "text/plain": [
       "<Figure size 2160x360 with 10 Axes>"
      ]
     },
     "metadata": {
      "needs_background": "light"
     },
     "output_type": "display_data"
    }
   ],
   "source": [
    "plt.figure(figsize=(3 * 10, 5))\n",
    "k = 0\n",
    "for i in ind:\n",
    "    plt.subplot(1, 10, k+1)\n",
    "    k+=1\n",
    "    plt.imshow(X_test[i,:].reshape(28, 28))\n",
    "    plt.xlabel('true: ' + str(d[y_test_labels[i]]) + '\\n \\n pred: ' + str(d[y_pred_class[i]]))\n",
    "\n",
    "plt.show() "
   ]
  },
  {
   "cell_type": "code",
   "execution_count": null,
   "id": "8fb847ae",
   "metadata": {},
   "outputs": [],
   "source": []
  }
 ],
 "metadata": {
  "kernelspec": {
   "display_name": "Python 3 (ipykernel)",
   "language": "python",
   "name": "python3"
  },
  "language_info": {
   "codemirror_mode": {
    "name": "ipython",
    "version": 3
   },
   "file_extension": ".py",
   "mimetype": "text/x-python",
   "name": "python",
   "nbconvert_exporter": "python",
   "pygments_lexer": "ipython3",
   "version": "3.9.12"
  }
 },
 "nbformat": 4,
 "nbformat_minor": 5
}
